{
 "nbformat": 4,
 "nbformat_minor": 0,
 "metadata": {
  "colab": {
   "provenance": [],
   "gpuType": "T4"
  },
  "kernelspec": {
   "name": "python3",
   "display_name": "Python 3 (ipykernel)",
   "language": "python"
  },
  "language_info": {
   "name": "python"
  },
  "accelerator": "GPU",
  "widgets": {
   "application/vnd.jupyter.widget-state+json": {
    "02f53730dfaf4cea98b1640d4a49e162": {
     "model_module": "@jupyter-widgets/controls",
     "model_name": "HBoxModel",
     "model_module_version": "1.5.0",
     "state": {
      "_dom_classes": [],
      "_model_module": "@jupyter-widgets/controls",
      "_model_module_version": "1.5.0",
      "_model_name": "HBoxModel",
      "_view_count": null,
      "_view_module": "@jupyter-widgets/controls",
      "_view_module_version": "1.5.0",
      "_view_name": "HBoxView",
      "box_style": "",
      "children": [
       "IPY_MODEL_627208deca784b9e850ee59182ca8378",
       "IPY_MODEL_6660adfb624c42f4a58a6a80070ab8cd",
       "IPY_MODEL_f4e005d1f5ea47e8b7c83974ba9c778a"
      ],
      "layout": "IPY_MODEL_9fbc10d75c774c83a6e23d70fb246e85"
     }
    },
    "627208deca784b9e850ee59182ca8378": {
     "model_module": "@jupyter-widgets/controls",
     "model_name": "HTMLModel",
     "model_module_version": "1.5.0",
     "state": {
      "_dom_classes": [],
      "_model_module": "@jupyter-widgets/controls",
      "_model_module_version": "1.5.0",
      "_model_name": "HTMLModel",
      "_view_count": null,
      "_view_module": "@jupyter-widgets/controls",
      "_view_module_version": "1.5.0",
      "_view_name": "HTMLView",
      "description": "",
      "description_tooltip": null,
      "layout": "IPY_MODEL_536e504e75f0461a9a4ef9211762043e",
      "placeholder": "​",
      "style": "IPY_MODEL_067bb07635224145920b14d047e0c2cd",
      "value": "preprocessor_config.json: 100%"
     }
    },
    "6660adfb624c42f4a58a6a80070ab8cd": {
     "model_module": "@jupyter-widgets/controls",
     "model_name": "FloatProgressModel",
     "model_module_version": "1.5.0",
     "state": {
      "_dom_classes": [],
      "_model_module": "@jupyter-widgets/controls",
      "_model_module_version": "1.5.0",
      "_model_name": "FloatProgressModel",
      "_view_count": null,
      "_view_module": "@jupyter-widgets/controls",
      "_view_module_version": "1.5.0",
      "_view_name": "ProgressView",
      "bar_style": "success",
      "description": "",
      "description_tooltip": null,
      "layout": "IPY_MODEL_7578f3d2117149dea9127ea63c54d29e",
      "max": 340,
      "min": 0,
      "orientation": "horizontal",
      "style": "IPY_MODEL_85b63e201a9f46349d1cd25a30ccb6c5",
      "value": 340
     }
    },
    "f4e005d1f5ea47e8b7c83974ba9c778a": {
     "model_module": "@jupyter-widgets/controls",
     "model_name": "HTMLModel",
     "model_module_version": "1.5.0",
     "state": {
      "_dom_classes": [],
      "_model_module": "@jupyter-widgets/controls",
      "_model_module_version": "1.5.0",
      "_model_name": "HTMLModel",
      "_view_count": null,
      "_view_module": "@jupyter-widgets/controls",
      "_view_module_version": "1.5.0",
      "_view_name": "HTMLView",
      "description": "",
      "description_tooltip": null,
      "layout": "IPY_MODEL_651cf8da6cdc44439e348be8e9ff5f81",
      "placeholder": "​",
      "style": "IPY_MODEL_68ea7ba3bdb745c79e2ce12458cb5ac0",
      "value": " 340/340 [00:00&lt;00:00, 10.1kB/s]"
     }
    },
    "9fbc10d75c774c83a6e23d70fb246e85": {
     "model_module": "@jupyter-widgets/base",
     "model_name": "LayoutModel",
     "model_module_version": "1.2.0",
     "state": {
      "_model_module": "@jupyter-widgets/base",
      "_model_module_version": "1.2.0",
      "_model_name": "LayoutModel",
      "_view_count": null,
      "_view_module": "@jupyter-widgets/base",
      "_view_module_version": "1.2.0",
      "_view_name": "LayoutView",
      "align_content": null,
      "align_items": null,
      "align_self": null,
      "border": null,
      "bottom": null,
      "display": null,
      "flex": null,
      "flex_flow": null,
      "grid_area": null,
      "grid_auto_columns": null,
      "grid_auto_flow": null,
      "grid_auto_rows": null,
      "grid_column": null,
      "grid_gap": null,
      "grid_row": null,
      "grid_template_areas": null,
      "grid_template_columns": null,
      "grid_template_rows": null,
      "height": null,
      "justify_content": null,
      "justify_items": null,
      "left": null,
      "margin": null,
      "max_height": null,
      "max_width": null,
      "min_height": null,
      "min_width": null,
      "object_fit": null,
      "object_position": null,
      "order": null,
      "overflow": null,
      "overflow_x": null,
      "overflow_y": null,
      "padding": null,
      "right": null,
      "top": null,
      "visibility": null,
      "width": null
     }
    },
    "536e504e75f0461a9a4ef9211762043e": {
     "model_module": "@jupyter-widgets/base",
     "model_name": "LayoutModel",
     "model_module_version": "1.2.0",
     "state": {
      "_model_module": "@jupyter-widgets/base",
      "_model_module_version": "1.2.0",
      "_model_name": "LayoutModel",
      "_view_count": null,
      "_view_module": "@jupyter-widgets/base",
      "_view_module_version": "1.2.0",
      "_view_name": "LayoutView",
      "align_content": null,
      "align_items": null,
      "align_self": null,
      "border": null,
      "bottom": null,
      "display": null,
      "flex": null,
      "flex_flow": null,
      "grid_area": null,
      "grid_auto_columns": null,
      "grid_auto_flow": null,
      "grid_auto_rows": null,
      "grid_column": null,
      "grid_gap": null,
      "grid_row": null,
      "grid_template_areas": null,
      "grid_template_columns": null,
      "grid_template_rows": null,
      "height": null,
      "justify_content": null,
      "justify_items": null,
      "left": null,
      "margin": null,
      "max_height": null,
      "max_width": null,
      "min_height": null,
      "min_width": null,
      "object_fit": null,
      "object_position": null,
      "order": null,
      "overflow": null,
      "overflow_x": null,
      "overflow_y": null,
      "padding": null,
      "right": null,
      "top": null,
      "visibility": null,
      "width": null
     }
    },
    "067bb07635224145920b14d047e0c2cd": {
     "model_module": "@jupyter-widgets/controls",
     "model_name": "DescriptionStyleModel",
     "model_module_version": "1.5.0",
     "state": {
      "_model_module": "@jupyter-widgets/controls",
      "_model_module_version": "1.5.0",
      "_model_name": "DescriptionStyleModel",
      "_view_count": null,
      "_view_module": "@jupyter-widgets/base",
      "_view_module_version": "1.2.0",
      "_view_name": "StyleView",
      "description_width": ""
     }
    },
    "7578f3d2117149dea9127ea63c54d29e": {
     "model_module": "@jupyter-widgets/base",
     "model_name": "LayoutModel",
     "model_module_version": "1.2.0",
     "state": {
      "_model_module": "@jupyter-widgets/base",
      "_model_module_version": "1.2.0",
      "_model_name": "LayoutModel",
      "_view_count": null,
      "_view_module": "@jupyter-widgets/base",
      "_view_module_version": "1.2.0",
      "_view_name": "LayoutView",
      "align_content": null,
      "align_items": null,
      "align_self": null,
      "border": null,
      "bottom": null,
      "display": null,
      "flex": null,
      "flex_flow": null,
      "grid_area": null,
      "grid_auto_columns": null,
      "grid_auto_flow": null,
      "grid_auto_rows": null,
      "grid_column": null,
      "grid_gap": null,
      "grid_row": null,
      "grid_template_areas": null,
      "grid_template_columns": null,
      "grid_template_rows": null,
      "height": null,
      "justify_content": null,
      "justify_items": null,
      "left": null,
      "margin": null,
      "max_height": null,
      "max_width": null,
      "min_height": null,
      "min_width": null,
      "object_fit": null,
      "object_position": null,
      "order": null,
      "overflow": null,
      "overflow_x": null,
      "overflow_y": null,
      "padding": null,
      "right": null,
      "top": null,
      "visibility": null,
      "width": null
     }
    },
    "85b63e201a9f46349d1cd25a30ccb6c5": {
     "model_module": "@jupyter-widgets/controls",
     "model_name": "ProgressStyleModel",
     "model_module_version": "1.5.0",
     "state": {
      "_model_module": "@jupyter-widgets/controls",
      "_model_module_version": "1.5.0",
      "_model_name": "ProgressStyleModel",
      "_view_count": null,
      "_view_module": "@jupyter-widgets/base",
      "_view_module_version": "1.2.0",
      "_view_name": "StyleView",
      "bar_color": null,
      "description_width": ""
     }
    },
    "651cf8da6cdc44439e348be8e9ff5f81": {
     "model_module": "@jupyter-widgets/base",
     "model_name": "LayoutModel",
     "model_module_version": "1.2.0",
     "state": {
      "_model_module": "@jupyter-widgets/base",
      "_model_module_version": "1.2.0",
      "_model_name": "LayoutModel",
      "_view_count": null,
      "_view_module": "@jupyter-widgets/base",
      "_view_module_version": "1.2.0",
      "_view_name": "LayoutView",
      "align_content": null,
      "align_items": null,
      "align_self": null,
      "border": null,
      "bottom": null,
      "display": null,
      "flex": null,
      "flex_flow": null,
      "grid_area": null,
      "grid_auto_columns": null,
      "grid_auto_flow": null,
      "grid_auto_rows": null,
      "grid_column": null,
      "grid_gap": null,
      "grid_row": null,
      "grid_template_areas": null,
      "grid_template_columns": null,
      "grid_template_rows": null,
      "height": null,
      "justify_content": null,
      "justify_items": null,
      "left": null,
      "margin": null,
      "max_height": null,
      "max_width": null,
      "min_height": null,
      "min_width": null,
      "object_fit": null,
      "object_position": null,
      "order": null,
      "overflow": null,
      "overflow_x": null,
      "overflow_y": null,
      "padding": null,
      "right": null,
      "top": null,
      "visibility": null,
      "width": null
     }
    },
    "68ea7ba3bdb745c79e2ce12458cb5ac0": {
     "model_module": "@jupyter-widgets/controls",
     "model_name": "DescriptionStyleModel",
     "model_module_version": "1.5.0",
     "state": {
      "_model_module": "@jupyter-widgets/controls",
      "_model_module_version": "1.5.0",
      "_model_name": "DescriptionStyleModel",
      "_view_count": null,
      "_view_module": "@jupyter-widgets/base",
      "_view_module_version": "1.2.0",
      "_view_name": "StyleView",
      "description_width": ""
     }
    },
    "8bb1547d75f04a1596943b2b8cc32543": {
     "model_module": "@jupyter-widgets/controls",
     "model_name": "HBoxModel",
     "model_module_version": "1.5.0",
     "state": {
      "_dom_classes": [],
      "_model_module": "@jupyter-widgets/controls",
      "_model_module_version": "1.5.0",
      "_model_name": "HBoxModel",
      "_view_count": null,
      "_view_module": "@jupyter-widgets/controls",
      "_view_module_version": "1.5.0",
      "_view_name": "HBoxView",
      "box_style": "",
      "children": [
       "IPY_MODEL_b33dacb88d69477ca0699b63f5dbe4a9",
       "IPY_MODEL_c46a6845b909404ba9f5297d3e601beb",
       "IPY_MODEL_42bf205b14e84f649b44cf9accc1f4f6"
      ],
      "layout": "IPY_MODEL_6691eef695944ee39edbfcfffdf7239b"
     }
    },
    "b33dacb88d69477ca0699b63f5dbe4a9": {
     "model_module": "@jupyter-widgets/controls",
     "model_name": "HTMLModel",
     "model_module_version": "1.5.0",
     "state": {
      "_dom_classes": [],
      "_model_module": "@jupyter-widgets/controls",
      "_model_module_version": "1.5.0",
      "_model_name": "HTMLModel",
      "_view_count": null,
      "_view_module": "@jupyter-widgets/controls",
      "_view_module_version": "1.5.0",
      "_view_name": "HTMLView",
      "description": "",
      "description_tooltip": null,
      "layout": "IPY_MODEL_a3e5d0dfcdea4914b2efa33e5ca355fb",
      "placeholder": "​",
      "style": "IPY_MODEL_3f1faf1553674f3384fb266af6825e88",
      "value": "vocabulary.json: "
     }
    },
    "c46a6845b909404ba9f5297d3e601beb": {
     "model_module": "@jupyter-widgets/controls",
     "model_name": "FloatProgressModel",
     "model_module_version": "1.5.0",
     "state": {
      "_dom_classes": [],
      "_model_module": "@jupyter-widgets/controls",
      "_model_module_version": "1.5.0",
      "_model_name": "FloatProgressModel",
      "_view_count": null,
      "_view_module": "@jupyter-widgets/controls",
      "_view_module_version": "1.5.0",
      "_view_name": "ProgressView",
      "bar_style": "success",
      "description": "",
      "description_tooltip": null,
      "layout": "IPY_MODEL_ace758ca12f54110941761ea4b582eb5",
      "max": 1,
      "min": 0,
      "orientation": "horizontal",
      "style": "IPY_MODEL_5630fd67ea824eab9543063b9a4c3932",
      "value": 1
     }
    },
    "42bf205b14e84f649b44cf9accc1f4f6": {
     "model_module": "@jupyter-widgets/controls",
     "model_name": "HTMLModel",
     "model_module_version": "1.5.0",
     "state": {
      "_dom_classes": [],
      "_model_module": "@jupyter-widgets/controls",
      "_model_module_version": "1.5.0",
      "_model_name": "HTMLModel",
      "_view_count": null,
      "_view_module": "@jupyter-widgets/controls",
      "_view_module_version": "1.5.0",
      "_view_name": "HTMLView",
      "description": "",
      "description_tooltip": null,
      "layout": "IPY_MODEL_ff00da51ef83471e8a6902846890722b",
      "placeholder": "​",
      "style": "IPY_MODEL_dffa9911771640f19f077a3b9246584f",
      "value": " 1.07M/? [00:00&lt;00:00, 13.0MB/s]"
     }
    },
    "6691eef695944ee39edbfcfffdf7239b": {
     "model_module": "@jupyter-widgets/base",
     "model_name": "LayoutModel",
     "model_module_version": "1.2.0",
     "state": {
      "_model_module": "@jupyter-widgets/base",
      "_model_module_version": "1.2.0",
      "_model_name": "LayoutModel",
      "_view_count": null,
      "_view_module": "@jupyter-widgets/base",
      "_view_module_version": "1.2.0",
      "_view_name": "LayoutView",
      "align_content": null,
      "align_items": null,
      "align_self": null,
      "border": null,
      "bottom": null,
      "display": null,
      "flex": null,
      "flex_flow": null,
      "grid_area": null,
      "grid_auto_columns": null,
      "grid_auto_flow": null,
      "grid_auto_rows": null,
      "grid_column": null,
      "grid_gap": null,
      "grid_row": null,
      "grid_template_areas": null,
      "grid_template_columns": null,
      "grid_template_rows": null,
      "height": null,
      "justify_content": null,
      "justify_items": null,
      "left": null,
      "margin": null,
      "max_height": null,
      "max_width": null,
      "min_height": null,
      "min_width": null,
      "object_fit": null,
      "object_position": null,
      "order": null,
      "overflow": null,
      "overflow_x": null,
      "overflow_y": null,
      "padding": null,
      "right": null,
      "top": null,
      "visibility": null,
      "width": null
     }
    },
    "a3e5d0dfcdea4914b2efa33e5ca355fb": {
     "model_module": "@jupyter-widgets/base",
     "model_name": "LayoutModel",
     "model_module_version": "1.2.0",
     "state": {
      "_model_module": "@jupyter-widgets/base",
      "_model_module_version": "1.2.0",
      "_model_name": "LayoutModel",
      "_view_count": null,
      "_view_module": "@jupyter-widgets/base",
      "_view_module_version": "1.2.0",
      "_view_name": "LayoutView",
      "align_content": null,
      "align_items": null,
      "align_self": null,
      "border": null,
      "bottom": null,
      "display": null,
      "flex": null,
      "flex_flow": null,
      "grid_area": null,
      "grid_auto_columns": null,
      "grid_auto_flow": null,
      "grid_auto_rows": null,
      "grid_column": null,
      "grid_gap": null,
      "grid_row": null,
      "grid_template_areas": null,
      "grid_template_columns": null,
      "grid_template_rows": null,
      "height": null,
      "justify_content": null,
      "justify_items": null,
      "left": null,
      "margin": null,
      "max_height": null,
      "max_width": null,
      "min_height": null,
      "min_width": null,
      "object_fit": null,
      "object_position": null,
      "order": null,
      "overflow": null,
      "overflow_x": null,
      "overflow_y": null,
      "padding": null,
      "right": null,
      "top": null,
      "visibility": null,
      "width": null
     }
    },
    "3f1faf1553674f3384fb266af6825e88": {
     "model_module": "@jupyter-widgets/controls",
     "model_name": "DescriptionStyleModel",
     "model_module_version": "1.5.0",
     "state": {
      "_model_module": "@jupyter-widgets/controls",
      "_model_module_version": "1.5.0",
      "_model_name": "DescriptionStyleModel",
      "_view_count": null,
      "_view_module": "@jupyter-widgets/base",
      "_view_module_version": "1.2.0",
      "_view_name": "StyleView",
      "description_width": ""
     }
    },
    "ace758ca12f54110941761ea4b582eb5": {
     "model_module": "@jupyter-widgets/base",
     "model_name": "LayoutModel",
     "model_module_version": "1.2.0",
     "state": {
      "_model_module": "@jupyter-widgets/base",
      "_model_module_version": "1.2.0",
      "_model_name": "LayoutModel",
      "_view_count": null,
      "_view_module": "@jupyter-widgets/base",
      "_view_module_version": "1.2.0",
      "_view_name": "LayoutView",
      "align_content": null,
      "align_items": null,
      "align_self": null,
      "border": null,
      "bottom": null,
      "display": null,
      "flex": null,
      "flex_flow": null,
      "grid_area": null,
      "grid_auto_columns": null,
      "grid_auto_flow": null,
      "grid_auto_rows": null,
      "grid_column": null,
      "grid_gap": null,
      "grid_row": null,
      "grid_template_areas": null,
      "grid_template_columns": null,
      "grid_template_rows": null,
      "height": null,
      "justify_content": null,
      "justify_items": null,
      "left": null,
      "margin": null,
      "max_height": null,
      "max_width": null,
      "min_height": null,
      "min_width": null,
      "object_fit": null,
      "object_position": null,
      "order": null,
      "overflow": null,
      "overflow_x": null,
      "overflow_y": null,
      "padding": null,
      "right": null,
      "top": null,
      "visibility": null,
      "width": "20px"
     }
    },
    "5630fd67ea824eab9543063b9a4c3932": {
     "model_module": "@jupyter-widgets/controls",
     "model_name": "ProgressStyleModel",
     "model_module_version": "1.5.0",
     "state": {
      "_model_module": "@jupyter-widgets/controls",
      "_model_module_version": "1.5.0",
      "_model_name": "ProgressStyleModel",
      "_view_count": null,
      "_view_module": "@jupyter-widgets/base",
      "_view_module_version": "1.2.0",
      "_view_name": "StyleView",
      "bar_color": null,
      "description_width": ""
     }
    },
    "ff00da51ef83471e8a6902846890722b": {
     "model_module": "@jupyter-widgets/base",
     "model_name": "LayoutModel",
     "model_module_version": "1.2.0",
     "state": {
      "_model_module": "@jupyter-widgets/base",
      "_model_module_version": "1.2.0",
      "_model_name": "LayoutModel",
      "_view_count": null,
      "_view_module": "@jupyter-widgets/base",
      "_view_module_version": "1.2.0",
      "_view_name": "LayoutView",
      "align_content": null,
      "align_items": null,
      "align_self": null,
      "border": null,
      "bottom": null,
      "display": null,
      "flex": null,
      "flex_flow": null,
      "grid_area": null,
      "grid_auto_columns": null,
      "grid_auto_flow": null,
      "grid_auto_rows": null,
      "grid_column": null,
      "grid_gap": null,
      "grid_row": null,
      "grid_template_areas": null,
      "grid_template_columns": null,
      "grid_template_rows": null,
      "height": null,
      "justify_content": null,
      "justify_items": null,
      "left": null,
      "margin": null,
      "max_height": null,
      "max_width": null,
      "min_height": null,
      "min_width": null,
      "object_fit": null,
      "object_position": null,
      "order": null,
      "overflow": null,
      "overflow_x": null,
      "overflow_y": null,
      "padding": null,
      "right": null,
      "top": null,
      "visibility": null,
      "width": null
     }
    },
    "dffa9911771640f19f077a3b9246584f": {
     "model_module": "@jupyter-widgets/controls",
     "model_name": "DescriptionStyleModel",
     "model_module_version": "1.5.0",
     "state": {
      "_model_module": "@jupyter-widgets/controls",
      "_model_module_version": "1.5.0",
      "_model_name": "DescriptionStyleModel",
      "_view_count": null,
      "_view_module": "@jupyter-widgets/base",
      "_view_module_version": "1.2.0",
      "_view_name": "StyleView",
      "description_width": ""
     }
    },
    "099683bb530b407b81de8543ee392926": {
     "model_module": "@jupyter-widgets/controls",
     "model_name": "HBoxModel",
     "model_module_version": "1.5.0",
     "state": {
      "_dom_classes": [],
      "_model_module": "@jupyter-widgets/controls",
      "_model_module_version": "1.5.0",
      "_model_name": "HBoxModel",
      "_view_count": null,
      "_view_module": "@jupyter-widgets/controls",
      "_view_module_version": "1.5.0",
      "_view_name": "HBoxView",
      "box_style": "",
      "children": [
       "IPY_MODEL_f22a8b9436864861adc9818b57d53b68",
       "IPY_MODEL_2a35d2b3cac042c683d0952b15a2fad3",
       "IPY_MODEL_48f6c0649b3b43b4ac49ddbe9b8237bf"
      ],
      "layout": "IPY_MODEL_21356f0879e045c183a06a333c2c24cf"
     }
    },
    "f22a8b9436864861adc9818b57d53b68": {
     "model_module": "@jupyter-widgets/controls",
     "model_name": "HTMLModel",
     "model_module_version": "1.5.0",
     "state": {
      "_dom_classes": [],
      "_model_module": "@jupyter-widgets/controls",
      "_model_module_version": "1.5.0",
      "_model_name": "HTMLModel",
      "_view_count": null,
      "_view_module": "@jupyter-widgets/controls",
      "_view_module_version": "1.5.0",
      "_view_name": "HTMLView",
      "description": "",
      "description_tooltip": null,
      "layout": "IPY_MODEL_028605d30f614d579c84362bdcdfb51f",
      "placeholder": "​",
      "style": "IPY_MODEL_a41fd92f84f24fc1b0c84313860f175d",
      "value": "config.json: "
     }
    },
    "2a35d2b3cac042c683d0952b15a2fad3": {
     "model_module": "@jupyter-widgets/controls",
     "model_name": "FloatProgressModel",
     "model_module_version": "1.5.0",
     "state": {
      "_dom_classes": [],
      "_model_module": "@jupyter-widgets/controls",
      "_model_module_version": "1.5.0",
      "_model_name": "FloatProgressModel",
      "_view_count": null,
      "_view_module": "@jupyter-widgets/controls",
      "_view_module_version": "1.5.0",
      "_view_name": "ProgressView",
      "bar_style": "success",
      "description": "",
      "description_tooltip": null,
      "layout": "IPY_MODEL_d24bba226bc74fe19efa50053fd0dd4a",
      "max": 1,
      "min": 0,
      "orientation": "horizontal",
      "style": "IPY_MODEL_8de40585e0694c808e2dab3ae4be0bb4",
      "value": 1
     }
    },
    "48f6c0649b3b43b4ac49ddbe9b8237bf": {
     "model_module": "@jupyter-widgets/controls",
     "model_name": "HTMLModel",
     "model_module_version": "1.5.0",
     "state": {
      "_dom_classes": [],
      "_model_module": "@jupyter-widgets/controls",
      "_model_module_version": "1.5.0",
      "_model_name": "HTMLModel",
      "_view_count": null,
      "_view_module": "@jupyter-widgets/controls",
      "_view_module_version": "1.5.0",
      "_view_name": "HTMLView",
      "description": "",
      "description_tooltip": null,
      "layout": "IPY_MODEL_decbbe7f6dfb4bcdb7614e0c7f65b6c6",
      "placeholder": "​",
      "style": "IPY_MODEL_1e8e622d0bb14de1b66fc05b2b3923fa",
      "value": " 2.39k/? [00:00&lt;00:00, 47.0kB/s]"
     }
    },
    "21356f0879e045c183a06a333c2c24cf": {
     "model_module": "@jupyter-widgets/base",
     "model_name": "LayoutModel",
     "model_module_version": "1.2.0",
     "state": {
      "_model_module": "@jupyter-widgets/base",
      "_model_module_version": "1.2.0",
      "_model_name": "LayoutModel",
      "_view_count": null,
      "_view_module": "@jupyter-widgets/base",
      "_view_module_version": "1.2.0",
      "_view_name": "LayoutView",
      "align_content": null,
      "align_items": null,
      "align_self": null,
      "border": null,
      "bottom": null,
      "display": null,
      "flex": null,
      "flex_flow": null,
      "grid_area": null,
      "grid_auto_columns": null,
      "grid_auto_flow": null,
      "grid_auto_rows": null,
      "grid_column": null,
      "grid_gap": null,
      "grid_row": null,
      "grid_template_areas": null,
      "grid_template_columns": null,
      "grid_template_rows": null,
      "height": null,
      "justify_content": null,
      "justify_items": null,
      "left": null,
      "margin": null,
      "max_height": null,
      "max_width": null,
      "min_height": null,
      "min_width": null,
      "object_fit": null,
      "object_position": null,
      "order": null,
      "overflow": null,
      "overflow_x": null,
      "overflow_y": null,
      "padding": null,
      "right": null,
      "top": null,
      "visibility": null,
      "width": null
     }
    },
    "028605d30f614d579c84362bdcdfb51f": {
     "model_module": "@jupyter-widgets/base",
     "model_name": "LayoutModel",
     "model_module_version": "1.2.0",
     "state": {
      "_model_module": "@jupyter-widgets/base",
      "_model_module_version": "1.2.0",
      "_model_name": "LayoutModel",
      "_view_count": null,
      "_view_module": "@jupyter-widgets/base",
      "_view_module_version": "1.2.0",
      "_view_name": "LayoutView",
      "align_content": null,
      "align_items": null,
      "align_self": null,
      "border": null,
      "bottom": null,
      "display": null,
      "flex": null,
      "flex_flow": null,
      "grid_area": null,
      "grid_auto_columns": null,
      "grid_auto_flow": null,
      "grid_auto_rows": null,
      "grid_column": null,
      "grid_gap": null,
      "grid_row": null,
      "grid_template_areas": null,
      "grid_template_columns": null,
      "grid_template_rows": null,
      "height": null,
      "justify_content": null,
      "justify_items": null,
      "left": null,
      "margin": null,
      "max_height": null,
      "max_width": null,
      "min_height": null,
      "min_width": null,
      "object_fit": null,
      "object_position": null,
      "order": null,
      "overflow": null,
      "overflow_x": null,
      "overflow_y": null,
      "padding": null,
      "right": null,
      "top": null,
      "visibility": null,
      "width": null
     }
    },
    "a41fd92f84f24fc1b0c84313860f175d": {
     "model_module": "@jupyter-widgets/controls",
     "model_name": "DescriptionStyleModel",
     "model_module_version": "1.5.0",
     "state": {
      "_model_module": "@jupyter-widgets/controls",
      "_model_module_version": "1.5.0",
      "_model_name": "DescriptionStyleModel",
      "_view_count": null,
      "_view_module": "@jupyter-widgets/base",
      "_view_module_version": "1.2.0",
      "_view_name": "StyleView",
      "description_width": ""
     }
    },
    "d24bba226bc74fe19efa50053fd0dd4a": {
     "model_module": "@jupyter-widgets/base",
     "model_name": "LayoutModel",
     "model_module_version": "1.2.0",
     "state": {
      "_model_module": "@jupyter-widgets/base",
      "_model_module_version": "1.2.0",
      "_model_name": "LayoutModel",
      "_view_count": null,
      "_view_module": "@jupyter-widgets/base",
      "_view_module_version": "1.2.0",
      "_view_name": "LayoutView",
      "align_content": null,
      "align_items": null,
      "align_self": null,
      "border": null,
      "bottom": null,
      "display": null,
      "flex": null,
      "flex_flow": null,
      "grid_area": null,
      "grid_auto_columns": null,
      "grid_auto_flow": null,
      "grid_auto_rows": null,
      "grid_column": null,
      "grid_gap": null,
      "grid_row": null,
      "grid_template_areas": null,
      "grid_template_columns": null,
      "grid_template_rows": null,
      "height": null,
      "justify_content": null,
      "justify_items": null,
      "left": null,
      "margin": null,
      "max_height": null,
      "max_width": null,
      "min_height": null,
      "min_width": null,
      "object_fit": null,
      "object_position": null,
      "order": null,
      "overflow": null,
      "overflow_x": null,
      "overflow_y": null,
      "padding": null,
      "right": null,
      "top": null,
      "visibility": null,
      "width": "20px"
     }
    },
    "8de40585e0694c808e2dab3ae4be0bb4": {
     "model_module": "@jupyter-widgets/controls",
     "model_name": "ProgressStyleModel",
     "model_module_version": "1.5.0",
     "state": {
      "_model_module": "@jupyter-widgets/controls",
      "_model_module_version": "1.5.0",
      "_model_name": "ProgressStyleModel",
      "_view_count": null,
      "_view_module": "@jupyter-widgets/base",
      "_view_module_version": "1.2.0",
      "_view_name": "StyleView",
      "bar_color": null,
      "description_width": ""
     }
    },
    "decbbe7f6dfb4bcdb7614e0c7f65b6c6": {
     "model_module": "@jupyter-widgets/base",
     "model_name": "LayoutModel",
     "model_module_version": "1.2.0",
     "state": {
      "_model_module": "@jupyter-widgets/base",
      "_model_module_version": "1.2.0",
      "_model_name": "LayoutModel",
      "_view_count": null,
      "_view_module": "@jupyter-widgets/base",
      "_view_module_version": "1.2.0",
      "_view_name": "LayoutView",
      "align_content": null,
      "align_items": null,
      "align_self": null,
      "border": null,
      "bottom": null,
      "display": null,
      "flex": null,
      "flex_flow": null,
      "grid_area": null,
      "grid_auto_columns": null,
      "grid_auto_flow": null,
      "grid_auto_rows": null,
      "grid_column": null,
      "grid_gap": null,
      "grid_row": null,
      "grid_template_areas": null,
      "grid_template_columns": null,
      "grid_template_rows": null,
      "height": null,
      "justify_content": null,
      "justify_items": null,
      "left": null,
      "margin": null,
      "max_height": null,
      "max_width": null,
      "min_height": null,
      "min_width": null,
      "object_fit": null,
      "object_position": null,
      "order": null,
      "overflow": null,
      "overflow_x": null,
      "overflow_y": null,
      "padding": null,
      "right": null,
      "top": null,
      "visibility": null,
      "width": null
     }
    },
    "1e8e622d0bb14de1b66fc05b2b3923fa": {
     "model_module": "@jupyter-widgets/controls",
     "model_name": "DescriptionStyleModel",
     "model_module_version": "1.5.0",
     "state": {
      "_model_module": "@jupyter-widgets/controls",
      "_model_module_version": "1.5.0",
      "_model_name": "DescriptionStyleModel",
      "_view_count": null,
      "_view_module": "@jupyter-widgets/base",
      "_view_module_version": "1.2.0",
      "_view_name": "StyleView",
      "description_width": ""
     }
    },
    "fcfd964f41cc4a759b831f47c22d0b36": {
     "model_module": "@jupyter-widgets/controls",
     "model_name": "HBoxModel",
     "model_module_version": "1.5.0",
     "state": {
      "_dom_classes": [],
      "_model_module": "@jupyter-widgets/controls",
      "_model_module_version": "1.5.0",
      "_model_name": "HBoxModel",
      "_view_count": null,
      "_view_module": "@jupyter-widgets/controls",
      "_view_module_version": "1.5.0",
      "_view_name": "HBoxView",
      "box_style": "",
      "children": [
       "IPY_MODEL_fbd1788855f74f458ced6996137e7a73",
       "IPY_MODEL_c8167cb9a7044f65bdfe89c5c3f4f5ed",
       "IPY_MODEL_3ca5f83928024cdc939ecf00e82c36ab"
      ],
      "layout": "IPY_MODEL_3a17490fb01842129084c2350cf5e890"
     }
    },
    "fbd1788855f74f458ced6996137e7a73": {
     "model_module": "@jupyter-widgets/controls",
     "model_name": "HTMLModel",
     "model_module_version": "1.5.0",
     "state": {
      "_dom_classes": [],
      "_model_module": "@jupyter-widgets/controls",
      "_model_module_version": "1.5.0",
      "_model_name": "HTMLModel",
      "_view_count": null,
      "_view_module": "@jupyter-widgets/controls",
      "_view_module_version": "1.5.0",
      "_view_name": "HTMLView",
      "description": "",
      "description_tooltip": null,
      "layout": "IPY_MODEL_3724c9b4594b4e2cae3529f4bb899276",
      "placeholder": "​",
      "style": "IPY_MODEL_ac84956cfb2d420db34188042ad06caf",
      "value": "tokenizer.json: "
     }
    },
    "c8167cb9a7044f65bdfe89c5c3f4f5ed": {
     "model_module": "@jupyter-widgets/controls",
     "model_name": "FloatProgressModel",
     "model_module_version": "1.5.0",
     "state": {
      "_dom_classes": [],
      "_model_module": "@jupyter-widgets/controls",
      "_model_module_version": "1.5.0",
      "_model_name": "FloatProgressModel",
      "_view_count": null,
      "_view_module": "@jupyter-widgets/controls",
      "_view_module_version": "1.5.0",
      "_view_name": "ProgressView",
      "bar_style": "success",
      "description": "",
      "description_tooltip": null,
      "layout": "IPY_MODEL_032c9b3560924f41bc647168ee8ae132",
      "max": 1,
      "min": 0,
      "orientation": "horizontal",
      "style": "IPY_MODEL_7ec2bf3ff2e64fc78722ddf5a92243cf",
      "value": 1
     }
    },
    "3ca5f83928024cdc939ecf00e82c36ab": {
     "model_module": "@jupyter-widgets/controls",
     "model_name": "HTMLModel",
     "model_module_version": "1.5.0",
     "state": {
      "_dom_classes": [],
      "_model_module": "@jupyter-widgets/controls",
      "_model_module_version": "1.5.0",
      "_model_name": "HTMLModel",
      "_view_count": null,
      "_view_module": "@jupyter-widgets/controls",
      "_view_module_version": "1.5.0",
      "_view_name": "HTMLView",
      "description": "",
      "description_tooltip": null,
      "layout": "IPY_MODEL_186bd07886b04036acd178540ecd68e2",
      "placeholder": "​",
      "style": "IPY_MODEL_8afd0c20c0c14577af4b4f0072cf8033",
      "value": " 2.48M/? [00:00&lt;00:00, 17.4MB/s]"
     }
    },
    "3a17490fb01842129084c2350cf5e890": {
     "model_module": "@jupyter-widgets/base",
     "model_name": "LayoutModel",
     "model_module_version": "1.2.0",
     "state": {
      "_model_module": "@jupyter-widgets/base",
      "_model_module_version": "1.2.0",
      "_model_name": "LayoutModel",
      "_view_count": null,
      "_view_module": "@jupyter-widgets/base",
      "_view_module_version": "1.2.0",
      "_view_name": "LayoutView",
      "align_content": null,
      "align_items": null,
      "align_self": null,
      "border": null,
      "bottom": null,
      "display": null,
      "flex": null,
      "flex_flow": null,
      "grid_area": null,
      "grid_auto_columns": null,
      "grid_auto_flow": null,
      "grid_auto_rows": null,
      "grid_column": null,
      "grid_gap": null,
      "grid_row": null,
      "grid_template_areas": null,
      "grid_template_columns": null,
      "grid_template_rows": null,
      "height": null,
      "justify_content": null,
      "justify_items": null,
      "left": null,
      "margin": null,
      "max_height": null,
      "max_width": null,
      "min_height": null,
      "min_width": null,
      "object_fit": null,
      "object_position": null,
      "order": null,
      "overflow": null,
      "overflow_x": null,
      "overflow_y": null,
      "padding": null,
      "right": null,
      "top": null,
      "visibility": null,
      "width": null
     }
    },
    "3724c9b4594b4e2cae3529f4bb899276": {
     "model_module": "@jupyter-widgets/base",
     "model_name": "LayoutModel",
     "model_module_version": "1.2.0",
     "state": {
      "_model_module": "@jupyter-widgets/base",
      "_model_module_version": "1.2.0",
      "_model_name": "LayoutModel",
      "_view_count": null,
      "_view_module": "@jupyter-widgets/base",
      "_view_module_version": "1.2.0",
      "_view_name": "LayoutView",
      "align_content": null,
      "align_items": null,
      "align_self": null,
      "border": null,
      "bottom": null,
      "display": null,
      "flex": null,
      "flex_flow": null,
      "grid_area": null,
      "grid_auto_columns": null,
      "grid_auto_flow": null,
      "grid_auto_rows": null,
      "grid_column": null,
      "grid_gap": null,
      "grid_row": null,
      "grid_template_areas": null,
      "grid_template_columns": null,
      "grid_template_rows": null,
      "height": null,
      "justify_content": null,
      "justify_items": null,
      "left": null,
      "margin": null,
      "max_height": null,
      "max_width": null,
      "min_height": null,
      "min_width": null,
      "object_fit": null,
      "object_position": null,
      "order": null,
      "overflow": null,
      "overflow_x": null,
      "overflow_y": null,
      "padding": null,
      "right": null,
      "top": null,
      "visibility": null,
      "width": null
     }
    },
    "ac84956cfb2d420db34188042ad06caf": {
     "model_module": "@jupyter-widgets/controls",
     "model_name": "DescriptionStyleModel",
     "model_module_version": "1.5.0",
     "state": {
      "_model_module": "@jupyter-widgets/controls",
      "_model_module_version": "1.5.0",
      "_model_name": "DescriptionStyleModel",
      "_view_count": null,
      "_view_module": "@jupyter-widgets/base",
      "_view_module_version": "1.2.0",
      "_view_name": "StyleView",
      "description_width": ""
     }
    },
    "032c9b3560924f41bc647168ee8ae132": {
     "model_module": "@jupyter-widgets/base",
     "model_name": "LayoutModel",
     "model_module_version": "1.2.0",
     "state": {
      "_model_module": "@jupyter-widgets/base",
      "_model_module_version": "1.2.0",
      "_model_name": "LayoutModel",
      "_view_count": null,
      "_view_module": "@jupyter-widgets/base",
      "_view_module_version": "1.2.0",
      "_view_name": "LayoutView",
      "align_content": null,
      "align_items": null,
      "align_self": null,
      "border": null,
      "bottom": null,
      "display": null,
      "flex": null,
      "flex_flow": null,
      "grid_area": null,
      "grid_auto_columns": null,
      "grid_auto_flow": null,
      "grid_auto_rows": null,
      "grid_column": null,
      "grid_gap": null,
      "grid_row": null,
      "grid_template_areas": null,
      "grid_template_columns": null,
      "grid_template_rows": null,
      "height": null,
      "justify_content": null,
      "justify_items": null,
      "left": null,
      "margin": null,
      "max_height": null,
      "max_width": null,
      "min_height": null,
      "min_width": null,
      "object_fit": null,
      "object_position": null,
      "order": null,
      "overflow": null,
      "overflow_x": null,
      "overflow_y": null,
      "padding": null,
      "right": null,
      "top": null,
      "visibility": null,
      "width": "20px"
     }
    },
    "7ec2bf3ff2e64fc78722ddf5a92243cf": {
     "model_module": "@jupyter-widgets/controls",
     "model_name": "ProgressStyleModel",
     "model_module_version": "1.5.0",
     "state": {
      "_model_module": "@jupyter-widgets/controls",
      "_model_module_version": "1.5.0",
      "_model_name": "ProgressStyleModel",
      "_view_count": null,
      "_view_module": "@jupyter-widgets/base",
      "_view_module_version": "1.2.0",
      "_view_name": "StyleView",
      "bar_color": null,
      "description_width": ""
     }
    },
    "186bd07886b04036acd178540ecd68e2": {
     "model_module": "@jupyter-widgets/base",
     "model_name": "LayoutModel",
     "model_module_version": "1.2.0",
     "state": {
      "_model_module": "@jupyter-widgets/base",
      "_model_module_version": "1.2.0",
      "_model_name": "LayoutModel",
      "_view_count": null,
      "_view_module": "@jupyter-widgets/base",
      "_view_module_version": "1.2.0",
      "_view_name": "LayoutView",
      "align_content": null,
      "align_items": null,
      "align_self": null,
      "border": null,
      "bottom": null,
      "display": null,
      "flex": null,
      "flex_flow": null,
      "grid_area": null,
      "grid_auto_columns": null,
      "grid_auto_flow": null,
      "grid_auto_rows": null,
      "grid_column": null,
      "grid_gap": null,
      "grid_row": null,
      "grid_template_areas": null,
      "grid_template_columns": null,
      "grid_template_rows": null,
      "height": null,
      "justify_content": null,
      "justify_items": null,
      "left": null,
      "margin": null,
      "max_height": null,
      "max_width": null,
      "min_height": null,
      "min_width": null,
      "object_fit": null,
      "object_position": null,
      "order": null,
      "overflow": null,
      "overflow_x": null,
      "overflow_y": null,
      "padding": null,
      "right": null,
      "top": null,
      "visibility": null,
      "width": null
     }
    },
    "8afd0c20c0c14577af4b4f0072cf8033": {
     "model_module": "@jupyter-widgets/controls",
     "model_name": "DescriptionStyleModel",
     "model_module_version": "1.5.0",
     "state": {
      "_model_module": "@jupyter-widgets/controls",
      "_model_module_version": "1.5.0",
      "_model_name": "DescriptionStyleModel",
      "_view_count": null,
      "_view_module": "@jupyter-widgets/base",
      "_view_module_version": "1.2.0",
      "_view_name": "StyleView",
      "description_width": ""
     }
    },
    "17a901712d004ebb93042b56c5ba5990": {
     "model_module": "@jupyter-widgets/controls",
     "model_name": "HBoxModel",
     "model_module_version": "1.5.0",
     "state": {
      "_dom_classes": [],
      "_model_module": "@jupyter-widgets/controls",
      "_model_module_version": "1.5.0",
      "_model_name": "HBoxModel",
      "_view_count": null,
      "_view_module": "@jupyter-widgets/controls",
      "_view_module_version": "1.5.0",
      "_view_name": "HBoxView",
      "box_style": "",
      "children": [
       "IPY_MODEL_7462d4d68a0f43359d792b2efdc3247d",
       "IPY_MODEL_de53e49d9f4846c0a70f5b1a9e07fd9b",
       "IPY_MODEL_baa7af2d83a241d5b6c8e3339431f4e9"
      ],
      "layout": "IPY_MODEL_8320304345e6415cb1c83dfa4e1db027"
     }
    },
    "7462d4d68a0f43359d792b2efdc3247d": {
     "model_module": "@jupyter-widgets/controls",
     "model_name": "HTMLModel",
     "model_module_version": "1.5.0",
     "state": {
      "_dom_classes": [],
      "_model_module": "@jupyter-widgets/controls",
      "_model_module_version": "1.5.0",
      "_model_name": "HTMLModel",
      "_view_count": null,
      "_view_module": "@jupyter-widgets/controls",
      "_view_module_version": "1.5.0",
      "_view_name": "HTMLView",
      "description": "",
      "description_tooltip": null,
      "layout": "IPY_MODEL_1f694384d05848d2835520012fafff36",
      "placeholder": "​",
      "style": "IPY_MODEL_31f674553c294f1c92e069758b13826a",
      "value": "model.bin: 100%"
     }
    },
    "de53e49d9f4846c0a70f5b1a9e07fd9b": {
     "model_module": "@jupyter-widgets/controls",
     "model_name": "FloatProgressModel",
     "model_module_version": "1.5.0",
     "state": {
      "_dom_classes": [],
      "_model_module": "@jupyter-widgets/controls",
      "_model_module_version": "1.5.0",
      "_model_name": "FloatProgressModel",
      "_view_count": null,
      "_view_module": "@jupyter-widgets/controls",
      "_view_module_version": "1.5.0",
      "_view_name": "ProgressView",
      "bar_style": "success",
      "description": "",
      "description_tooltip": null,
      "layout": "IPY_MODEL_c2d0a13c163d483fa62c44b60ce00301",
      "max": 3087284237,
      "min": 0,
      "orientation": "horizontal",
      "style": "IPY_MODEL_3d3628fd3dd74377909aeaa3146691d5",
      "value": 3087284237
     }
    },
    "baa7af2d83a241d5b6c8e3339431f4e9": {
     "model_module": "@jupyter-widgets/controls",
     "model_name": "HTMLModel",
     "model_module_version": "1.5.0",
     "state": {
      "_dom_classes": [],
      "_model_module": "@jupyter-widgets/controls",
      "_model_module_version": "1.5.0",
      "_model_name": "HTMLModel",
      "_view_count": null,
      "_view_module": "@jupyter-widgets/controls",
      "_view_module_version": "1.5.0",
      "_view_name": "HTMLView",
      "description": "",
      "description_tooltip": null,
      "layout": "IPY_MODEL_e93132a2e21e494cb4777bfd962d699d",
      "placeholder": "​",
      "style": "IPY_MODEL_c1e70bfd37504b93b0ce285aafb53da8",
      "value": " 3.09G/3.09G [00:51&lt;00:00, 123MB/s]"
     }
    },
    "8320304345e6415cb1c83dfa4e1db027": {
     "model_module": "@jupyter-widgets/base",
     "model_name": "LayoutModel",
     "model_module_version": "1.2.0",
     "state": {
      "_model_module": "@jupyter-widgets/base",
      "_model_module_version": "1.2.0",
      "_model_name": "LayoutModel",
      "_view_count": null,
      "_view_module": "@jupyter-widgets/base",
      "_view_module_version": "1.2.0",
      "_view_name": "LayoutView",
      "align_content": null,
      "align_items": null,
      "align_self": null,
      "border": null,
      "bottom": null,
      "display": null,
      "flex": null,
      "flex_flow": null,
      "grid_area": null,
      "grid_auto_columns": null,
      "grid_auto_flow": null,
      "grid_auto_rows": null,
      "grid_column": null,
      "grid_gap": null,
      "grid_row": null,
      "grid_template_areas": null,
      "grid_template_columns": null,
      "grid_template_rows": null,
      "height": null,
      "justify_content": null,
      "justify_items": null,
      "left": null,
      "margin": null,
      "max_height": null,
      "max_width": null,
      "min_height": null,
      "min_width": null,
      "object_fit": null,
      "object_position": null,
      "order": null,
      "overflow": null,
      "overflow_x": null,
      "overflow_y": null,
      "padding": null,
      "right": null,
      "top": null,
      "visibility": null,
      "width": null
     }
    },
    "1f694384d05848d2835520012fafff36": {
     "model_module": "@jupyter-widgets/base",
     "model_name": "LayoutModel",
     "model_module_version": "1.2.0",
     "state": {
      "_model_module": "@jupyter-widgets/base",
      "_model_module_version": "1.2.0",
      "_model_name": "LayoutModel",
      "_view_count": null,
      "_view_module": "@jupyter-widgets/base",
      "_view_module_version": "1.2.0",
      "_view_name": "LayoutView",
      "align_content": null,
      "align_items": null,
      "align_self": null,
      "border": null,
      "bottom": null,
      "display": null,
      "flex": null,
      "flex_flow": null,
      "grid_area": null,
      "grid_auto_columns": null,
      "grid_auto_flow": null,
      "grid_auto_rows": null,
      "grid_column": null,
      "grid_gap": null,
      "grid_row": null,
      "grid_template_areas": null,
      "grid_template_columns": null,
      "grid_template_rows": null,
      "height": null,
      "justify_content": null,
      "justify_items": null,
      "left": null,
      "margin": null,
      "max_height": null,
      "max_width": null,
      "min_height": null,
      "min_width": null,
      "object_fit": null,
      "object_position": null,
      "order": null,
      "overflow": null,
      "overflow_x": null,
      "overflow_y": null,
      "padding": null,
      "right": null,
      "top": null,
      "visibility": null,
      "width": null
     }
    },
    "31f674553c294f1c92e069758b13826a": {
     "model_module": "@jupyter-widgets/controls",
     "model_name": "DescriptionStyleModel",
     "model_module_version": "1.5.0",
     "state": {
      "_model_module": "@jupyter-widgets/controls",
      "_model_module_version": "1.5.0",
      "_model_name": "DescriptionStyleModel",
      "_view_count": null,
      "_view_module": "@jupyter-widgets/base",
      "_view_module_version": "1.2.0",
      "_view_name": "StyleView",
      "description_width": ""
     }
    },
    "c2d0a13c163d483fa62c44b60ce00301": {
     "model_module": "@jupyter-widgets/base",
     "model_name": "LayoutModel",
     "model_module_version": "1.2.0",
     "state": {
      "_model_module": "@jupyter-widgets/base",
      "_model_module_version": "1.2.0",
      "_model_name": "LayoutModel",
      "_view_count": null,
      "_view_module": "@jupyter-widgets/base",
      "_view_module_version": "1.2.0",
      "_view_name": "LayoutView",
      "align_content": null,
      "align_items": null,
      "align_self": null,
      "border": null,
      "bottom": null,
      "display": null,
      "flex": null,
      "flex_flow": null,
      "grid_area": null,
      "grid_auto_columns": null,
      "grid_auto_flow": null,
      "grid_auto_rows": null,
      "grid_column": null,
      "grid_gap": null,
      "grid_row": null,
      "grid_template_areas": null,
      "grid_template_columns": null,
      "grid_template_rows": null,
      "height": null,
      "justify_content": null,
      "justify_items": null,
      "left": null,
      "margin": null,
      "max_height": null,
      "max_width": null,
      "min_height": null,
      "min_width": null,
      "object_fit": null,
      "object_position": null,
      "order": null,
      "overflow": null,
      "overflow_x": null,
      "overflow_y": null,
      "padding": null,
      "right": null,
      "top": null,
      "visibility": null,
      "width": null
     }
    },
    "3d3628fd3dd74377909aeaa3146691d5": {
     "model_module": "@jupyter-widgets/controls",
     "model_name": "ProgressStyleModel",
     "model_module_version": "1.5.0",
     "state": {
      "_model_module": "@jupyter-widgets/controls",
      "_model_module_version": "1.5.0",
      "_model_name": "ProgressStyleModel",
      "_view_count": null,
      "_view_module": "@jupyter-widgets/base",
      "_view_module_version": "1.2.0",
      "_view_name": "StyleView",
      "bar_color": null,
      "description_width": ""
     }
    },
    "e93132a2e21e494cb4777bfd962d699d": {
     "model_module": "@jupyter-widgets/base",
     "model_name": "LayoutModel",
     "model_module_version": "1.2.0",
     "state": {
      "_model_module": "@jupyter-widgets/base",
      "_model_module_version": "1.2.0",
      "_model_name": "LayoutModel",
      "_view_count": null,
      "_view_module": "@jupyter-widgets/base",
      "_view_module_version": "1.2.0",
      "_view_name": "LayoutView",
      "align_content": null,
      "align_items": null,
      "align_self": null,
      "border": null,
      "bottom": null,
      "display": null,
      "flex": null,
      "flex_flow": null,
      "grid_area": null,
      "grid_auto_columns": null,
      "grid_auto_flow": null,
      "grid_auto_rows": null,
      "grid_column": null,
      "grid_gap": null,
      "grid_row": null,
      "grid_template_areas": null,
      "grid_template_columns": null,
      "grid_template_rows": null,
      "height": null,
      "justify_content": null,
      "justify_items": null,
      "left": null,
      "margin": null,
      "max_height": null,
      "max_width": null,
      "min_height": null,
      "min_width": null,
      "object_fit": null,
      "object_position": null,
      "order": null,
      "overflow": null,
      "overflow_x": null,
      "overflow_y": null,
      "padding": null,
      "right": null,
      "top": null,
      "visibility": null,
      "width": null
     }
    },
    "c1e70bfd37504b93b0ce285aafb53da8": {
     "model_module": "@jupyter-widgets/controls",
     "model_name": "DescriptionStyleModel",
     "model_module_version": "1.5.0",
     "state": {
      "_model_module": "@jupyter-widgets/controls",
      "_model_module_version": "1.5.0",
      "_model_name": "DescriptionStyleModel",
      "_view_count": null,
      "_view_module": "@jupyter-widgets/base",
      "_view_module_version": "1.2.0",
      "_view_name": "StyleView",
      "description_width": ""
     }
    }
   }
  }
 },
 "cells": [
  {
   "cell_type": "markdown",
   "source": [
    "# 🎧 Task 3 — Faster-Whisper Optimization  \n",
    "### Section 1 — Environment Setup & System Check  \n",
    "\n",
    "This notebook focuses on **optimizing the Faster-Whisper model** for resource usage, audio preprocessing, and error handling.\n",
    "\n",
    "**Notebook name:** `task3_fasterwhisper_optimization.ipynb`  \n",
    "**Purpose of this section:**  \n",
    "Set up the environment and verify system resources before running any optimization or audio tests.\n",
    "\n",
    "---\n",
    "\n",
    "### What will happen in this section:\n",
    "1. Install all necessary dependencies for Task 3.  \n",
    "2. Prepare workspace folders (for logs, results, and sample audio).  \n",
    "3. Check system details — GPU availability, CPU info, and memory stats.  \n",
    "4. Add a small helper function to capture live resource usage snapshots.  \n",
    "5. Print clear reminders about how to save and submit the notebook.  \n",
    "\n",
    "Let's begin by installing dependencies.\n"
   ],
   "metadata": {
    "id": "Odk0nuhcmqdC"
   }
  },
  {
   "cell_type": "markdown",
   "source": [
    "## 🧰 Step 1: Install Required Libraries  \n",
    "\n",
    "In this step, we install all the Python packages needed for:\n",
    "- Faster-Whisper model loading and transcription.  \n",
    "- Audio loading and processing.  \n",
    "- Resource monitoring and visualization.\n",
    "\n",
    "> ⚙️ Run this cell once at the beginning of every new Colab session.\n"
   ],
   "metadata": {
    "id": "2tnCjL7rt2hO"
   }
  },
  {
   "cell_type": "code",
   "source": [
    "# Run this as a code cell (leading !). Adjust versions if you have project constraints.\n",
    "# Keep installs minimal to avoid long setup time. Add more later if needed.\n",
    "# !pip install --quiet faster-whisper psutil soundfile librosa matplotlib tqdm\n",
    "# If you plan to use rnnoise or other native packages, install them later when needed.\n",
    "import os\n",
    "import sys\n",
    "import platform\n",
    "import psutil\n",
    "from datetime import datetime\n",
    "import subprocess\n",
    "import json\n",
    "import numpy as np\n",
    "import warnings\n",
    "warnings.filterwarnings(\"ignore\")\n",
    "\n"
   ],
   "metadata": {
    "colab": {
     "base_uri": "https://localhost:8080/"
    },
    "id": "0J36SG8zmuXZ",
    "outputId": "f86ebf9d-046a-42cb-d33f-f21fd28896f9",
    "ExecuteTime": {
     "end_time": "2025-10-21T03:16:49.192606Z",
     "start_time": "2025-10-21T03:16:48.837415Z"
    }
   },
   "outputs": [],
   "execution_count": 1
  },
  {
   "cell_type": "markdown",
   "source": [
    "## 📂 Step 2: Prepare Workspace  \n",
    "\n",
    "We’ll now create a simple workspace inside Colab to keep things organized.  \n",
    "This includes:\n",
    "- `results/` — to save any figures or CSVs generated later.  \n",
    "- `logs/` — to record error messages and performance metrics.  \n",
    "- `data/` — where we’ll upload and keep audio samples for testing.\n",
    "\n",
    "> These folders will exist temporarily during this Colab session.\n"
   ],
   "metadata": {
    "id": "CQP6464CuS0v"
   }
  },
  {
   "cell_type": "code",
   "source": [
    "# Base path = current notebook folder\n",
    "BASE_DIR = os.getcwd()\n",
    "\n",
    "# Create local workspace folders\n",
    "DATA_DIR = os.path.join(BASE_DIR, \"data\")\n",
    "RAW_DIR = os.path.join(DATA_DIR, \"raw\")\n",
    "CONVERTED_DIR = os.path.join(DATA_DIR, \"converted\")\n",
    "RESULTS_DIR = os.path.join(BASE_DIR, \"results\")\n",
    "LOGS_DIR = os.path.join(BASE_DIR, \"logs\")\n",
    "\n",
    "for d in [DATA_DIR, RAW_DIR, CONVERTED_DIR, RESULTS_DIR, LOGS_DIR]:\n",
    "    os.makedirs(d, exist_ok=True)\n",
    "\n",
    "print(\"✅ Local workspace ready!\")\n",
    "print(f\"📁 BASE_DIR     : {BASE_DIR}\")\n",
    "print(f\"📁 DATA_DIR     : {DATA_DIR}\")\n",
    "print(f\"📁 RAW_DIR      : {RAW_DIR}\")\n",
    "print(f\"📁 CONVERTED_DIR: {CONVERTED_DIR}\")\n",
    "print(f\"📁 RESULTS_DIR  : {RESULTS_DIR}\")\n",
    "print(f\"📁 LOGS_DIR     : {LOGS_DIR}\")\n"
   ],
   "metadata": {
    "colab": {
     "base_uri": "https://localhost:8080/"
    },
    "id": "oeA1HCDrn3fi",
    "outputId": "19987a8d-1f05-46c4-9039-8718b06cd96d",
    "ExecuteTime": {
     "end_time": "2025-10-21T03:16:49.206677Z",
     "start_time": "2025-10-21T03:16:49.201610Z"
    }
   },
   "outputs": [
    {
     "name": "stdout",
     "output_type": "stream",
     "text": [
      "✅ Local workspace ready!\n",
      "📁 BASE_DIR     : C:\\Users\\PC\\PycharmProjects\\VisionAI_Audio\\notebooks\\task3_optimization\n",
      "📁 DATA_DIR     : C:\\Users\\PC\\PycharmProjects\\VisionAI_Audio\\notebooks\\task3_optimization\\data\n",
      "📁 RAW_DIR      : C:\\Users\\PC\\PycharmProjects\\VisionAI_Audio\\notebooks\\task3_optimization\\data\\raw\n",
      "📁 CONVERTED_DIR: C:\\Users\\PC\\PycharmProjects\\VisionAI_Audio\\notebooks\\task3_optimization\\data\\converted\n",
      "📁 RESULTS_DIR  : C:\\Users\\PC\\PycharmProjects\\VisionAI_Audio\\notebooks\\task3_optimization\\results\n",
      "📁 LOGS_DIR     : C:\\Users\\PC\\PycharmProjects\\VisionAI_Audio\\notebooks\\task3_optimization\\logs\n"
     ]
    }
   ],
   "execution_count": 2
  },
  {
   "cell_type": "markdown",
   "source": [
    "## 🖥️ Step 3: Check System Resources  \n",
    "\n",
    "Before running the model, let’s check:\n",
    "- Python version and environment details  \n",
    "- CPU core count and available RAM  \n",
    "- GPU availability (if Colab GPU runtime is active)\n",
    "\n",
    "This gives us a baseline understanding of what resources we have available for optimization experiments.\n"
   ],
   "metadata": {
    "id": "po2rsQ_-uz_W"
   }
  },
  {
   "cell_type": "code",
   "source": [
    "# GPU detection and resource summary\n",
    "def show_system_info():\n",
    "    print(\"===== SYSTEM INFO =====\")\n",
    "    print(\"Platform:\", platform.platform())\n",
    "    print(\"Python:\", sys.version.splitlines()[0])\n",
    "    print(\"Now:\", datetime.utcnow().strftime(\"%Y-%m-%d %H:%M:%S UTC\"))\n",
    "    print()\n",
    "    # CPU & RAM\n",
    "    print(\"CPU physical cores:\", psutil.cpu_count(logical=False))\n",
    "    print(\"CPU logical cores:\", psutil.cpu_count(logical=True))\n",
    "    ram_gb = psutil.virtual_memory().total / (1024**3)\n",
    "    print(\"Total RAM (GB):\", round(ram_gb, 2))\n",
    "\n",
    "    # Disk free in GB - cross-platform approach\n",
    "    try:\n",
    "        if hasattr(os, 'statvfs'):  # Unix/Linux/Mac\n",
    "            st = os.statvfs(BASE_DIR)\n",
    "            free_gb = (st.f_bavail * st.f_frsize) / (1024**3)\n",
    "        else:  # Windows\n",
    "            import shutil\n",
    "            free_gb = shutil.disk_usage(BASE_DIR).free / (1024**3)\n",
    "        print(\"Disk free (GB) at BASE_DIR:\", round(free_gb, 2))\n",
    "    except Exception as e:\n",
    "        print(\"Could not determine free disk space:\", e)\n",
    "\n",
    "    # GPU (nvidia-smi) check\n",
    "    print()\n",
    "    print(\"===== GPU INFO =====\")\n",
    "    try:\n",
    "        gpu_output = subprocess.getoutput(\"nvidia-smi --query-gpu=name,memory.total,driver_version --format=csv,noheader\")\n",
    "        if gpu_output.strip():\n",
    "            print(\"nvidia-smi output:\")\n",
    "            print(gpu_output)\n",
    "        else:\n",
    "            print(\"No GPU detected or nvidia-smi not available in this runtime.\")\n",
    "    except Exception as e:\n",
    "        print(\"nvidia-smi check failed:\", e)\n",
    "\n",
    "show_system_info()"
   ],
   "metadata": {
    "colab": {
     "base_uri": "https://localhost:8080/"
    },
    "id": "AS5kc3bbol7g",
    "outputId": "ab08b619-d7f3-4a24-875b-3b3d160a8bd7",
    "ExecuteTime": {
     "end_time": "2025-10-21T03:16:49.291569Z",
     "start_time": "2025-10-21T03:16:49.216680Z"
    }
   },
   "outputs": [
    {
     "name": "stdout",
     "output_type": "stream",
     "text": [
      "===== SYSTEM INFO =====\n",
      "Platform: Windows-11-10.0.26200-SP0\n",
      "Python: 3.12.10 (tags/v3.12.10:0cc8128, Apr  8 2025, 12:21:36) [MSC v.1943 64 bit (AMD64)]\n",
      "Now: 2025-10-21 03:16:49 UTC\n",
      "\n",
      "CPU physical cores: 24\n",
      "CPU logical cores: 32\n",
      "Total RAM (GB): 31.77\n",
      "Disk free (GB) at BASE_DIR: 645.32\n",
      "\n",
      "===== GPU INFO =====\n",
      "nvidia-smi output:\n",
      "NVIDIA GeForce RTX 4060, 8188 MiB, 566.36\n"
     ]
    }
   ],
   "execution_count": 3
  },
  {
   "cell_type": "markdown",
   "source": [
    "## 📊 Step 4: Define a Resource Snapshot Helper  \n",
    "\n",
    "We’ll now define a small function to capture the system’s current usage (CPU, RAM, GPU).  \n",
    "Later, we can call this function during transcription to monitor how resource usage changes.\n"
   ],
   "metadata": {
    "id": "E2ZHrv7UvC2m"
   }
  },
  {
   "cell_type": "code",
   "source": [
    "import json\n",
    "\n",
    "def resource_snapshot():\n",
    "    \"\"\"Return a dict snapshot of CPU, RAM and (if available) GPU memory usage.\"\"\"\n",
    "    snap = {\n",
    "        \"time_utc\": datetime.utcnow().isoformat(),\n",
    "        \"cpu_percent\": psutil.cpu_percent(interval=0.5),\n",
    "        \"ram_percent\": psutil.virtual_memory().percent,\n",
    "        \"ram_used_gb\": round(psutil.virtual_memory().used / (1024**3), 3),\n",
    "        \"ram_total_gb\": round(psutil.virtual_memory().total / (1024**3), 3),\n",
    "    }\n",
    "    # Attempt to get GPU info via nvidia-smi\n",
    "    try:\n",
    "        ginfo = subprocess.getoutput(\"nvidia-smi --query-gpu=index,name,utilization.gpu,memory.used,memory.total --format=csv,noheader\")\n",
    "        if ginfo.strip():\n",
    "            # produce a list of GPU entries\n",
    "            entries = []\n",
    "            for line in ginfo.strip().splitlines():\n",
    "                parts = [p.strip() for p in line.split(\",\")]\n",
    "                entries.append({\n",
    "                    \"index\": parts[0],\n",
    "                    \"name\": parts[1],\n",
    "                    \"utilization\": parts[2],\n",
    "                    \"mem_used\": parts[3],\n",
    "                    \"mem_total\": parts[4]\n",
    "                })\n",
    "            snap[\"gpus\"] = entries\n",
    "    except Exception:\n",
    "        snap[\"gpus\"] = []\n",
    "\n",
    "    return snap\n",
    "\n",
    "# Example usage: print a snapshot\n",
    "print(json.dumps(resource_snapshot(), indent=2))\n"
   ],
   "metadata": {
    "colab": {
     "base_uri": "https://localhost:8080/"
    },
    "id": "_XJj6XEQoy4I",
    "outputId": "da46fe0c-5970-42f2-c7e3-47a4d3b3ff8b",
    "ExecuteTime": {
     "end_time": "2025-10-21T03:16:49.836235Z",
     "start_time": "2025-10-21T03:16:49.296571Z"
    }
   },
   "outputs": [
    {
     "name": "stdout",
     "output_type": "stream",
     "text": [
      "{\n",
      "  \"time_utc\": \"2025-10-21T03:16:49.297571\",\n",
      "  \"cpu_percent\": 4.5,\n",
      "  \"ram_percent\": 69.3,\n",
      "  \"ram_used_gb\": 22.024,\n",
      "  \"ram_total_gb\": 31.768,\n",
      "  \"gpus\": [\n",
      "    {\n",
      "      \"index\": \"0\",\n",
      "      \"name\": \"NVIDIA GeForce RTX 4060\",\n",
      "      \"utilization\": \"7 %\",\n",
      "      \"mem_used\": \"611 MiB\",\n",
      "      \"mem_total\": \"8188 MiB\"\n",
      "    }\n",
      "  ]\n",
      "}\n"
     ]
    }
   ],
   "execution_count": 4
  },
  {
   "cell_type": "markdown",
   "source": [
    "# 🎵 Section 2 — Data & Audio Loading (Local Version)\n",
    "\n",
    "All test audios should be placed manually inside:\n",
    "📂 `notebooks/task3_optimization/data/raw/`\n",
    "\n",
    "This section will:\n",
    "1. Validate and inspect uploaded files.\n",
    "2. Convert all audio to 16 kHz mono WAV.\n",
    "3. Log conversion results.\n",
    "4. Visualize waveform and spectrogram.\n"
   ],
   "metadata": {
    "id": "PKwMVWLSwq1l"
   }
  },
  {
   "cell_type": "markdown",
   "source": [
    "## 📤 Step 1: Upload Audio Files  \n",
    "\n",
    "All test audios should be placed manually inside:\n",
    "📂 `notebooks/task3_optimization/data/raw/`\n",
    "\n",
    "We’ll later use them to test preprocessing and Faster-Whisper performance.\n"
   ],
   "metadata": {
    "id": "nSo6ANZFx6wl"
   }
  },
  {
   "cell_type": "markdown",
   "source": [
    "## ✅ Step 2: Validate Audio Files  \n",
    "\n",
    "We’ll now:\n",
    "- Confirm each uploaded file exists and can be read by the audio library.  \n",
    "- Catch unsupported or corrupted files early.  \n",
    "- Print duration and sample rate for a quick overview.\n"
   ],
   "metadata": {
    "id": "budTNNiXC34w"
   }
  },
  {
   "cell_type": "code",
   "source": [
    "import soundfile as sf\n",
    "\n",
    "def validate_audio_files(folder_path):\n",
    "    info_list = []\n",
    "    for file in os.listdir(folder_path):\n",
    "        fpath = os.path.join(folder_path, file)\n",
    "        try:\n",
    "            data, sr = sf.read(fpath)\n",
    "            duration = round(len(data) / sr, 2)\n",
    "            info_list.append({\n",
    "                \"file\": file,\n",
    "                \"sample_rate\": sr,\n",
    "                \"duration_sec\": duration,\n",
    "                \"status\": \"OK\"\n",
    "            })\n",
    "        except Exception as e:\n",
    "            info_list.append({\n",
    "                \"file\": file,\n",
    "                \"sample_rate\": None,\n",
    "                \"duration_sec\": None,\n",
    "                \"status\": f\"ERROR: {e}\"\n",
    "            })\n",
    "    return info_list\n",
    "\n",
    "print(\"🎧 Validating audio files in:\", RAW_DIR)\n",
    "file_info = validate_audio_files(RAW_DIR)\n",
    "for f in file_info:\n",
    "    print(f)\n"
   ],
   "metadata": {
    "colab": {
     "base_uri": "https://localhost:8080/"
    },
    "id": "2oj8uRbcC4wA",
    "outputId": "ad5bbac0-3e3e-4df0-9784-641eec8cfc07",
    "ExecuteTime": {
     "end_time": "2025-10-21T03:16:51.397076Z",
     "start_time": "2025-10-21T03:16:49.841239Z"
    }
   },
   "outputs": [
    {
     "name": "stdout",
     "output_type": "stream",
     "text": [
      "🎧 Validating audio files in: C:\\Users\\PC\\PycharmProjects\\VisionAI_Audio\\notebooks\\task3_optimization\\data\\raw\n",
      "{'file': 'corrupted_audio.mp3', 'sample_rate': None, 'duration_sec': None, 'status': \"ERROR: Error opening 'C:\\\\\\\\Users\\\\\\\\PC\\\\\\\\PycharmProjects\\\\\\\\VisionAI_Audio\\\\\\\\notebooks\\\\\\\\task3_optimization\\\\\\\\data\\\\\\\\raw\\\\\\\\corrupted_audio.mp3': File does not exist or is not a regular file (possibly a pipe?).\"}\n",
      "{'file': 'english_clean_1min.mp3', 'sample_rate': 44100, 'duration_sec': 66.08, 'status': 'OK'}\n",
      "{'file': 'english_multi_accent_noisy_background_3min.mp3', 'sample_rate': 44100, 'duration_sec': 228.36, 'status': 'OK'}\n",
      "{'file': 'eng_clean_16min.mp3', 'sample_rate': 44100, 'duration_sec': 972.83, 'status': 'OK'}\n",
      "{'file': 'eng_Pk_accent_clean_30s.wav', 'sample_rate': 48000, 'duration_sec': 25.51, 'status': 'OK'}\n",
      "{'file': 'eng_UK_clean_repeated_sentences_50s.m4a', 'sample_rate': None, 'duration_sec': None, 'status': \"ERROR: Error opening 'C:\\\\\\\\Users\\\\\\\\PC\\\\\\\\PycharmProjects\\\\\\\\VisionAI_Audio\\\\\\\\notebooks\\\\\\\\task3_optimization\\\\\\\\data\\\\\\\\raw\\\\\\\\eng_UK_clean_repeated_sentences_50s.m4a': Format not recognised.\"}\n",
      "{'file': 'en_UK_US_multiple_accent_noisy_background_music_50s.mp3', 'sample_rate': 44100, 'duration_sec': 47.1, 'status': 'OK'}\n",
      "{'file': 'fake_audio.mp3', 'sample_rate': None, 'duration_sec': None, 'status': \"ERROR: Error opening 'C:\\\\\\\\Users\\\\\\\\PC\\\\\\\\PycharmProjects\\\\\\\\VisionAI_Audio\\\\\\\\notebooks\\\\\\\\task3_optimization\\\\\\\\data\\\\\\\\raw\\\\\\\\fake_audio.mp3': File does not exist or is not a regular file (possibly a pipe?).\"}\n",
      "{'file': 'unsupported_encoding_settings.mp4', 'sample_rate': None, 'duration_sec': None, 'status': \"ERROR: Error opening 'C:\\\\\\\\Users\\\\\\\\PC\\\\\\\\PycharmProjects\\\\\\\\VisionAI_Audio\\\\\\\\notebooks\\\\\\\\task3_optimization\\\\\\\\data\\\\\\\\raw\\\\\\\\unsupported_encoding_settings.mp4': Format not recognised.\"}\n",
      "{'file': 'urdu_F_clean_30s.mp3', 'sample_rate': 48000, 'duration_sec': 21.41, 'status': 'OK'}\n",
      "{'file': 'urdu_low_pitch_fast_speaking_rate_15s_.mp3', 'sample_rate': 48000, 'duration_sec': 13.37, 'status': 'OK'}\n",
      "{'file': 'urdu_silence_1min.wav', 'sample_rate': 48000, 'duration_sec': 95.48, 'status': 'OK'}\n",
      "{'file': 'urdu_whatsapp_like_voice_15min.mp3', 'sample_rate': 44100, 'duration_sec': 936.33, 'status': 'OK'}\n",
      "{'file': 'ur_clean_bot_like_30s.mp3', 'sample_rate': 48000, 'duration_sec': 27.0, 'status': 'OK'}\n",
      "{'file': 'ur_noisy_background_music_5min.mp3', 'sample_rate': 44100, 'duration_sec': 295.81, 'status': 'OK'}\n"
     ]
    }
   ],
   "execution_count": 5
  },
  {
   "cell_type": "markdown",
   "source": [
    "## 🎚️ Step 3 (Updated): Convert Audio to Mono 16 kHz WAV  \n",
    "\n",
    "We’ll now handle corrupted or unsupported files more safely.  \n",
    "This updated version:\n",
    "- Converts only valid audio files.  \n",
    "- Skips any file that can’t be decoded.  \n",
    "- Prints a clear message for each file (✅ success / ⚠️ skipped).\n"
   ],
   "metadata": {
    "id": "mC6ALaIoC_Mt"
   }
  },
  {
   "cell_type": "code",
   "source": [
    "from datetime import datetime\n",
    "import os\n",
    "import librosa\n",
    "import soundfile as sf\n",
    "\n",
    "LOG_FILE = os.path.join(LOGS_DIR, \"validation.log\")\n",
    "\n",
    "def log_message(msg):\n",
    "    \"\"\"Append messages to log file safely (UTF-8 encoded).\"\"\"\n",
    "    timestamp = datetime.now().strftime(\"%Y-%m-%d %H:%M:%S\")\n",
    "    with open(LOG_FILE, \"a\", encoding=\"utf-8\") as f:\n",
    "        f.write(f\"[{timestamp}] {msg}\\n\")\n",
    "\n",
    "def convert_to_mono_16k_safe(src_path, dst_path):\n",
    "    \"\"\"Convert audio to 16 kHz mono safely, skipping broken files.\"\"\"\n",
    "    file_name = os.path.basename(src_path)\n",
    "    try:\n",
    "        y, sr = librosa.load(src_path, sr=16000, mono=True)\n",
    "\n",
    "        if sr is None or sr == 0:\n",
    "            msg = f\"❌ ERROR: {file_name} — Invalid sample rate (possibly corrupted).\"\n",
    "            print(msg); log_message(msg); return None\n",
    "\n",
    "        if y is None or len(y) == 0:\n",
    "            msg = f\"⚠️ EMPTY: {file_name} — No samples detected.\"\n",
    "            print(msg); log_message(msg); return None\n",
    "\n",
    "        sf.write(dst_path, y, 16000)\n",
    "        dur = len(y) / 16000\n",
    "        msg = f\"✅ OK: {file_name} converted successfully ({dur:.2f}s)\"\n",
    "        print(msg); log_message(msg)\n",
    "        return dur\n",
    "\n",
    "    except Exception as e:\n",
    "        msg = f\"❌ ERROR: {file_name} — {str(e)}\"\n",
    "        print(msg); log_message(msg)\n",
    "        return None\n",
    "\n",
    "# --- Main conversion loop ---\n",
    "print(\"🔄 Starting conversion process...\\n\")\n",
    "\n",
    "supported_ext = (\".wav\", \".mp3\", \".m4a\")\n",
    "\n",
    "for file in os.listdir(RAW_DIR):\n",
    "    src = os.path.join(RAW_DIR, file)\n",
    "    dst = os.path.join(CONVERTED_DIR, os.path.splitext(file)[0] + \"_16k.wav\")\n",
    "\n",
    "    if file.lower().endswith(supported_ext):\n",
    "        convert_to_mono_16k_safe(src, dst)\n",
    "    else:\n",
    "        msg = f\"🚫 SKIPPED: {file} — Unsupported file format.\"\n",
    "        print(msg)\n",
    "        log_message(msg)\n",
    "\n",
    "print(\"\\n📜 Conversion complete. Log saved at:\", LOG_FILE)\n"
   ],
   "metadata": {
    "colab": {
     "base_uri": "https://localhost:8080/"
    },
    "id": "GZjBXokvDCUH",
    "outputId": "a8d8090e-2cfc-4a38-a447-322de882569a",
    "ExecuteTime": {
     "end_time": "2025-10-21T03:16:59.263343Z",
     "start_time": "2025-10-21T03:16:51.405079Z"
    }
   },
   "outputs": [
    {
     "name": "stdout",
     "output_type": "stream",
     "text": [
      "🔄 Starting conversion process...\n",
      "\n",
      "❌ ERROR: corrupted_audio.mp3 — float division by zero\n",
      "✅ OK: english_clean_1min.mp3 converted successfully (66.08s)\n",
      "✅ OK: english_multi_accent_noisy_background_3min.mp3 converted successfully (228.36s)\n",
      "✅ OK: eng_clean_16min.mp3 converted successfully (972.83s)\n",
      "✅ OK: eng_Pk_accent_clean_30s.wav converted successfully (25.51s)\n",
      "✅ OK: eng_UK_clean_repeated_sentences_50s.m4a converted successfully (50.37s)\n",
      "✅ OK: en_UK_US_multiple_accent_noisy_background_music_50s.mp3 converted successfully (47.10s)\n",
      "❌ ERROR: fake_audio.mp3 — \n",
      "🚫 SKIPPED: unsupported_encoding_settings.mp4 — Unsupported file format.\n",
      "✅ OK: urdu_F_clean_30s.mp3 converted successfully (21.41s)\n",
      "✅ OK: urdu_low_pitch_fast_speaking_rate_15s_.mp3 converted successfully (13.37s)\n",
      "✅ OK: urdu_silence_1min.wav converted successfully (95.48s)\n",
      "✅ OK: urdu_whatsapp_like_voice_15min.mp3 converted successfully (936.33s)\n",
      "✅ OK: ur_clean_bot_like_30s.mp3 converted successfully (27.00s)\n",
      "✅ OK: ur_noisy_background_music_5min.mp3 converted successfully (295.81s)\n",
      "\n",
      "📜 Conversion complete. Log saved at: C:\\Users\\PC\\PycharmProjects\\VisionAI_Audio\\notebooks\\task3_optimization\\logs\\validation.log\n"
     ]
    }
   ],
   "execution_count": 6
  },
  {
   "cell_type": "markdown",
   "source": [
    "## 🎨 Step 4: Visualizing the Audio Data  \n",
    "\n",
    "Now that all audios are preprocessed into 16 kHz mono WAV format,  \n",
    "let’s visualize their **waveform** and **mel spectrograms** to better understand the acoustic patterns and quality of the recordings.  \n",
    "\n",
    "---\n",
    "\n",
    "### **Waveform Plot**\n",
    "The waveform represents how the **amplitude (loudness)** of the audio changes over time.\n",
    "\n",
    "- Each vertical “spike” or line corresponds to a burst of sound energy (like speech, music, or noise).  \n",
    "- **Dense regions** (where lines are tightly packed) indicate continuous sound — e.g., fast speech or background noise.  \n",
    "- **Sparse or flat regions** represent silence or pauses.  \n",
    "- **Very large spikes** can mean sudden loud noises or clipping/distortion.  \n",
    "- This plot is helpful for identifying:\n",
    "  - Where speech starts and ends.\n",
    "  - How noisy the recording is.\n",
    "  - Whether the audio has balanced loudness or uneven gain.\n",
    "\n",
    "---\n",
    "\n",
    "### **Mel Spectrogram Plot**\n",
    "The mel spectrogram shows the **energy distribution across frequencies** (y-axis) over time (x-axis),  \n",
    "converted to the **mel scale** — which approximates how human ears perceive pitch.\n",
    "\n",
    "- **Bright yellow/orange regions** → high energy (speech, music, strong consonants like “s” or “t”).  \n",
    "- **Dark blue or black regions** → silence or low energy.  \n",
    "- **Horizontal lines** → constant tones (like hum, background music, or static noise).  \n",
    "- **Vertical stripes** → transient bursts (like speech syllables, claps, or clicks).  \n",
    "- You can tell:\n",
    "  - How much noise or background sound exists (broad, blurry colors).\n",
    "  - Whether the recording contains clear speech (distinct vertical patterns).\n",
    "  - Which portions of the file are most informative for transcription.\n",
    "\n",
    "---\n",
    "\n",
    "Together, these plots give a quick visual summary of:\n",
    "- **Audio quality** (clean vs. noisy)\n",
    "- **Speaking style** (slow vs. fast)\n",
    "- **Energy distribution** (speech vs. silence vs. background)\n",
    "  \n",
    "This visualization step helps confirm whether preprocessing worked correctly before feeding the data to Whisper.\n"
   ],
   "metadata": {
    "id": "ThS63IShDVpw"
   }
  },
  {
   "cell_type": "code",
   "source": [
    "import matplotlib.pyplot as plt\n",
    "\n",
    "# Pick the first converted file for visualization\n",
    "sample_file = os.listdir(CONVERTED_DIR)[10]\n",
    "sample_path = os.path.join(CONVERTED_DIR, sample_file)\n",
    "\n",
    "y, sr = librosa.load(sample_path, sr=None)\n",
    "plt.figure(figsize=(12, 4))\n",
    "librosa.display.waveshow(y, sr=sr)\n",
    "plt.title(f\"Waveform — {sample_file}\")\n",
    "plt.xlabel(\"Time (s)\")\n",
    "plt.ylabel(\"Amplitude\")\n",
    "plt.show()\n",
    "\n",
    "# Spectrogram\n",
    "plt.figure(figsize=(10, 4))\n",
    "S = librosa.feature.melspectrogram(y=y, sr=sr, n_mels=80)\n",
    "S_dB = librosa.power_to_db(S, ref=np.max)\n",
    "librosa.display.specshow(S_dB, sr=sr, x_axis=\"time\", y_axis=\"mel\")\n",
    "plt.colorbar(format=\"%+2.0f dB\")\n",
    "plt.title(f\"Mel Spectrogram — {sample_file}\")\n",
    "plt.tight_layout()\n",
    "plt.show()\n"
   ],
   "metadata": {
    "colab": {
     "base_uri": "https://localhost:8080/",
     "height": 800
    },
    "id": "Z8jhtDBODZMf",
    "outputId": "ca54f000-1885-42e3-8553-df37385e358d",
    "ExecuteTime": {
     "end_time": "2025-10-21T03:17:00.187050Z",
     "start_time": "2025-10-21T03:16:59.271573Z"
    }
   },
   "outputs": [
    {
     "data": {
      "text/plain": [
       "<Figure size 1200x400 with 1 Axes>"
      ],
      "image/png": "[encoded data removed]"
     },
     "metadata": {},
     "output_type": "display_data",
     "jetTransient": {
      "display_id": null
     }
    },
    {
     "data": {
      "text/plain": [
       "<Figure size 1000x400 with 2 Axes>"
      ],
      "image/png": "[encoded data removed]"
     },
     "metadata": {},
     "output_type": "display_data",
     "jetTransient": {
      "display_id": null
     }
    }
   ],
   "execution_count": 7
  },
  {
   "cell_type": "markdown",
   "source": [
    "## 🧾 Section 2 Summary  \n",
    "\n",
    "✅ Uploaded audio files successfully.  \n",
    "✅ Validated and converted to mono 16 kHz WAV.  \n",
    "✅ Visualized waveform and spectrogram.\n",
    "\n",
    "Next, in **Section 3**, we’ll integrate these prepared audio files into the Faster-Whisper pipeline to test:\n",
    "- Different beam sizes, chunk lengths, and batch sizes.  \n",
    "- Resource usage and speed for each configuration.  \n",
    "- Performance logging for optimization analysis."
   ],
   "metadata": {
    "id": "sA3Bg9dZK3DR"
   }
  },
  {
   "cell_type": "markdown",
   "source": [
    "# ⚙️ Section 3 — Faster-Whisper Model Optimization  \n",
    "\n",
    "In this section, we’ll:\n",
    "1. Load the **Faster-Whisper** model selected from Task 2.  \n",
    "2. Configure **inference precision** (`float16`, `int8`, etc.) and **device (GPU/CPU)**.  \n",
    "3. Prepare functions to benchmark **speed**, **resource usage**, and **transcription accuracy**.  \n",
    "\n",
    "This forms the base for all optimization experiments we’ll conduct later.\n"
   ],
   "metadata": {
    "id": "KmEqpFg0YfHc"
   }
  },
  {
   "cell_type": "markdown",
   "source": [
    "## 🧰 Step 1: Load the Faster-Whisper Model  \n",
    "\n",
    "We start by loading the Whisper model in the appropriate precision and device mode.  \n",
    "\n",
    "- **float16** → Faster GPU inference with minimal accuracy loss.  \n",
    "- **int8** → Lighter CPU inference (used when GPU unavailable).  \n",
    "\n",
    "> Note: First-time load may take up to 30 s as the model downloads.\n"
   ],
   "metadata": {
    "id": "X9NkAcstYqTT"
   }
  },
  {
   "cell_type": "code",
   "source": [
    "from faster_whisper import WhisperModel\n",
    "import torch, time\n",
    "\n",
    "MODEL_NAME = \"large-v3\"\n",
    "DEVICE = \"cuda\" if torch.cuda.is_available() else \"cpu\"\n",
    "COMPUTE_TYPE = \"float16\" if DEVICE == \"cuda\" else \"int8\"\n",
    "\n",
    "print(f\"🚀 Loading Faster-Whisper model: {MODEL_NAME}\")\n",
    "print(f\"Device: {DEVICE} | Compute Type: {COMPUTE_TYPE}\")\n",
    "\n",
    "t0 = time.time()\n",
    "model = WhisperModel(MODEL_NAME, device=DEVICE, compute_type=COMPUTE_TYPE)\n",
    "load_time = time.time() - t0\n",
    "print(f\"✅ Model loaded successfully in {load_time:.2f} s\")\n",
    "\n",
    "if DEVICE == \"cuda\":\n",
    "    print(f\"🔋 GPU in use: {torch.cuda.get_device_name(0)}\")\n",
    "else:\n",
    "    print(\"⚠️ Running on CPU — inference will be slower.\")\n"
   ],
   "metadata": {
    "colab": {
     "base_uri": "https://localhost:8080/",
     "height": 351,
     "referenced_widgets": [
      "02f53730dfaf4cea98b1640d4a49e162",
      "627208deca784b9e850ee59182ca8378",
      "6660adfb624c42f4a58a6a80070ab8cd",
      "f4e005d1f5ea47e8b7c83974ba9c778a",
      "9fbc10d75c774c83a6e23d70fb246e85",
      "536e504e75f0461a9a4ef9211762043e",
      "067bb07635224145920b14d047e0c2cd",
      "7578f3d2117149dea9127ea63c54d29e",
      "85b63e201a9f46349d1cd25a30ccb6c5",
      "651cf8da6cdc44439e348be8e9ff5f81",
      "68ea7ba3bdb745c79e2ce12458cb5ac0",
      "8bb1547d75f04a1596943b2b8cc32543",
      "b33dacb88d69477ca0699b63f5dbe4a9",
      "c46a6845b909404ba9f5297d3e601beb",
      "42bf205b14e84f649b44cf9accc1f4f6",
      "6691eef695944ee39edbfcfffdf7239b",
      "a3e5d0dfcdea4914b2efa33e5ca355fb",
      "3f1faf1553674f3384fb266af6825e88",
      "ace758ca12f54110941761ea4b582eb5",
      "5630fd67ea824eab9543063b9a4c3932",
      "ff00da51ef83471e8a6902846890722b",
      "dffa9911771640f19f077a3b9246584f",
      "099683bb530b407b81de8543ee392926",
      "f22a8b9436864861adc9818b57d53b68",
      "2a35d2b3cac042c683d0952b15a2fad3",
      "48f6c0649b3b43b4ac49ddbe9b8237bf",
      "21356f0879e045c183a06a333c2c24cf",
      "028605d30f614d579c84362bdcdfb51f",
      "a41fd92f84f24fc1b0c84313860f175d",
      "d24bba226bc74fe19efa50053fd0dd4a",
      "8de40585e0694c808e2dab3ae4be0bb4",
      "decbbe7f6dfb4bcdb7614e0c7f65b6c6",
      "1e8e622d0bb14de1b66fc05b2b3923fa",
      "fcfd964f41cc4a759b831f47c22d0b36",
      "fbd1788855f74f458ced6996137e7a73",
      "c8167cb9a7044f65bdfe89c5c3f4f5ed",
      "3ca5f83928024cdc939ecf00e82c36ab",
      "3a17490fb01842129084c2350cf5e890",
      "3724c9b4594b4e2cae3529f4bb899276",
      "ac84956cfb2d420db34188042ad06caf",
      "032c9b3560924f41bc647168ee8ae132",
      "7ec2bf3ff2e64fc78722ddf5a92243cf",
      "186bd07886b04036acd178540ecd68e2",
      "8afd0c20c0c14577af4b4f0072cf8033",
      "17a901712d004ebb93042b56c5ba5990",
      "7462d4d68a0f43359d792b2efdc3247d",
      "de53e49d9f4846c0a70f5b1a9e07fd9b",
      "baa7af2d83a241d5b6c8e3339431f4e9",
      "8320304345e6415cb1c83dfa4e1db027",
      "1f694384d05848d2835520012fafff36",
      "31f674553c294f1c92e069758b13826a",
      "c2d0a13c163d483fa62c44b60ce00301",
      "3d3628fd3dd74377909aeaa3146691d5",
      "e93132a2e21e494cb4777bfd962d699d",
      "c1e70bfd37504b93b0ce285aafb53da8"
     ]
    },
    "id": "-jTIJIfLYyM8",
    "outputId": "f479c9ca-2d3f-4b95-e38f-cdd0429512c8",
    "ExecuteTime": {
     "end_time": "2025-10-21T03:17:18.661513Z",
     "start_time": "2025-10-21T03:17:00.193191Z"
    }
   },
   "outputs": [
    {
     "name": "stdout",
     "output_type": "stream",
     "text": [
      "🚀 Loading Faster-Whisper model: large-v3\n",
      "Device: cuda | Compute Type: float16\n",
      "✅ Model loaded successfully in 4.53 s\n",
      "🔋 GPU in use: NVIDIA GeForce RTX 4060\n"
     ]
    }
   ],
   "execution_count": 8
  },
  {
   "cell_type": "markdown",
   "source": [
    "## ✅ Step 2: Verify Model Readiness  \n",
    "\n",
    "We’ll now:\n",
    "- Print available model configuration options (language, task, beam size, etc.)  \n",
    "- Ensure the model is ready to run test transcriptions.  \n",
    "- Capture a resource snapshot for baseline comparison.\n"
   ],
   "metadata": {
    "id": "jSBg1uOdY-lE"
   }
  },
  {
   "cell_type": "code",
   "source": [
    "# Check available parameters and default decoding options\n",
    "import inspect\n",
    "\n",
    "print(\"Model attributes:\", [m for m in dir(model) if not m.startswith(\"_\")][:10])\n",
    "print(\"\\nTranscription method signature:\\n\")\n",
    "print(inspect.signature(model.transcribe))\n",
    "\n",
    "# Baseline resource snapshot\n",
    "print(\"\\n📊 Baseline Resource Snapshot:\")\n",
    "print(json.dumps(resource_snapshot(), indent=2))\n"
   ],
   "metadata": {
    "colab": {
     "base_uri": "https://localhost:8080/"
    },
    "id": "zdGucPPkZAV0",
    "outputId": "f8cef766-6f9d-4f78-9eb8-43295e0bd690",
    "ExecuteTime": {
     "end_time": "2025-10-21T03:17:19.222558Z",
     "start_time": "2025-10-21T03:17:18.670516Z"
    }
   },
   "outputs": [
    {
     "name": "stdout",
     "output_type": "stream",
     "text": [
      "Model attributes: ['add_word_timestamps', 'detect_language', 'encode', 'feat_kwargs', 'feature_extractor', 'find_alignment', 'frames_per_second', 'generate_segments', 'generate_with_fallback', 'get_prompt']\n",
      "\n",
      "Transcription method signature:\n",
      "\n",
      "(audio: Union[str, BinaryIO, numpy.ndarray], language: Optional[str] = None, task: str = 'transcribe', log_progress: bool = False, beam_size: int = 5, best_of: int = 5, patience: float = 1, length_penalty: float = 1, repetition_penalty: float = 1, no_repeat_ngram_size: int = 0, temperature: Union[float, List[float], Tuple[float, ...]] = [0.0, 0.2, 0.4, 0.6, 0.8, 1.0], compression_ratio_threshold: Optional[float] = 2.4, log_prob_threshold: Optional[float] = -1.0, no_speech_threshold: Optional[float] = 0.6, condition_on_previous_text: bool = True, prompt_reset_on_temperature: float = 0.5, initial_prompt: Union[str, Iterable[int], NoneType] = None, prefix: Optional[str] = None, suppress_blank: bool = True, suppress_tokens: Optional[List[int]] = [-1], without_timestamps: bool = False, max_initial_timestamp: float = 1.0, word_timestamps: bool = False, prepend_punctuations: str = '\"\\'“¿([{-', append_punctuations: str = '\"\\'.。,，!！?？:：”)]}、', multilingual: bool = False, vad_filter: bool = False, vad_parameters: Union[dict, faster_whisper.vad.VadOptions, NoneType] = None, max_new_tokens: Optional[int] = None, chunk_length: Optional[int] = None, clip_timestamps: Union[str, List[float]] = '0', hallucination_silence_threshold: Optional[float] = None, hotwords: Optional[str] = None, language_detection_threshold: Optional[float] = 0.5, language_detection_segments: int = 1) -> Tuple[Iterable[faster_whisper.transcribe.Segment], faster_whisper.transcribe.TranscriptionInfo]\n",
      "\n",
      "📊 Baseline Resource Snapshot:\n",
      "{\n",
      "  \"time_utc\": \"2025-10-21T03:17:18.672517\",\n",
      "  \"cpu_percent\": 5.0,\n",
      "  \"ram_percent\": 71.7,\n",
      "  \"ram_used_gb\": 22.779,\n",
      "  \"ram_total_gb\": 31.768,\n",
      "  \"gpus\": [\n",
      "    {\n",
      "      \"index\": \"0\",\n",
      "      \"name\": \"NVIDIA GeForce RTX 4060\",\n",
      "      \"utilization\": \"0 %\",\n",
      "      \"mem_used\": \"3675 MiB\",\n",
      "      \"mem_total\": \"8188 MiB\"\n",
      "    }\n",
      "  ]\n",
      "}\n"
     ]
    }
   ],
   "execution_count": 9
  },
  {
   "cell_type": "markdown",
   "source": [
    "## 🎤 Step 3: Quick Sanity Test  \n",
    "\n",
    "Before running full benchmarks, let’s transcribe one short audio sample  \n",
    "to confirm everything works end-to-end (model + audio + output + device).  \n",
    "\n",
    "We’ll use one converted file (e.g. a clean English sample) and print the first few transcribed lines.\n"
   ],
   "metadata": {
    "id": "VITEZjHvZGrj"
   }
  },
  {
   "cell_type": "code",
   "source": [
    "import random\n",
    "import datetime\n",
    "\n",
    "converted_files = [f for f in os.listdir(CONVERTED_DIR) if f.endswith(\".wav\")]\n",
    "test_file = random.choice(converted_files)\n",
    "test_path = os.path.join(CONVERTED_DIR, test_file)\n",
    "\n",
    "print(f\"🎧 Testing file: {test_file}\")\n",
    "print(f\"Started at: {datetime.datetime.utcnow().strftime('%Y-%m-%d %H:%M:%S UTC')}\")\n",
    "\n",
    "t0 = time.time()\n",
    "segments, info = model.transcribe(test_path, beam_size=5)\n",
    "t1 = time.time()\n",
    "\n",
    "print(f\"⏱️ Transcription completed in {(t1 - t0):.2f} s\")\n",
    "print(f\"Duration: {info.duration:.2f} s, Language: {info.language}\")\n",
    "\n",
    "print(\"\\nSample output:\")\n",
    "for i, segment in enumerate(segments):\n",
    "    print(f\"[{segment.start:.2f}s – {segment.end:.2f}s] {segment.text}\")\n",
    "    if i >= 3:  # show only first few lines\n",
    "        break\n"
   ],
   "metadata": {
    "colab": {
     "base_uri": "https://localhost:8080/"
    },
    "id": "BtIsBgmoZJnU",
    "outputId": "e6af796c-e827-4391-cba5-902cea85d456",
    "ExecuteTime": {
     "end_time": "2025-10-21T03:17:23.215584Z",
     "start_time": "2025-10-21T03:17:19.227561Z"
    }
   },
   "outputs": [
    {
     "name": "stdout",
     "output_type": "stream",
     "text": [
      "🎧 Testing file: urdu_silence_1min_16k.wav\n",
      "Started at: 2025-10-21 03:17:19 UTC\n",
      "⏱️ Transcription completed in 0.68 s\n",
      "Duration: 95.48 s, Language: ur\n",
      "\n",
      "Sample output:\n",
      "[0.00s – 7.40s]  یہ کہانی انیس سو اکتر کی پاک بھارت جنگ کے دوران بحری محاذ پر ہونے والے غیر معمولی مارکے کی روداد ہے\n",
      "[7.40s – 16.66s]  جب پاکستانی آبدوز ہنگور نے بھارتی پانیوں میں انڈین نیوی کے بحری جنگی جہاز کھکری کو اس کے عملے سمیت سمندر پرد کیا\n",
      "[16.66s – 21.18s]  جبکہ دوسرے بحری جنگی جہاز کرپان کو بھی مفلوج کیا\n",
      "[21.18s – 28.58s]  دوسری جنگ عظیم کے بعد کسی بھی روایتی آبدوز کا بحری جنگی جہاز کو تباہ کرنے کا یہ پہلا واقعہ ہے\n"
     ]
    }
   ],
   "execution_count": 10
  },
  {
   "cell_type": "markdown",
   "source": [
    "## 🧾 Section 3 Summary  \n",
    "\n",
    "✅ Loaded the Faster-Whisper model (GPU/CPU optimized).  \n",
    "✅ Verified model configuration and environment readiness.  \n",
    "✅ Ran a short audio sample for sanity check.  \n",
    "\n",
    "Next, in **Section 4**, we will:\n",
    "- Benchmark **multiple parameter combinations** (beam size, chunk length, compute type).  \n",
    "- Measure **runtime, resource usage, and output quality (WER/CER)**.  \n",
    "- Store all results in structured JSON/CSV format for visualization.\n"
   ],
   "metadata": {
    "id": "Xfo3zCyDZShL"
   }
  },
  {
   "metadata": {},
   "cell_type": "markdown",
   "source": [
    "# 🚀 Section 4 — Model Inference & Resource Optimization\n",
    "\n",
    "In this section, we’ll evaluate **Faster-Whisper’s runtime performance** across different settings.\n",
    "\n",
    "**Goals:**\n",
    "- Measure transcription **speed** (real-time factor).\n",
    "- Track **CPU / GPU / RAM** usage during inference.\n",
    "- Identify optimal configurations for **efficiency vs quality**.\n",
    "\n",
    "We’ll use the pre-converted 16 kHz mono audios from `data/converted/`.\n",
    "\n",
    "---\n",
    "\n",
    "### What We’ll Test\n",
    "- **Beam size:** 1 (vs default = 5)\n",
    "- **Chunk length:** 15 s vs 30 s vs None\n",
    "- **Batch size:** 8 vs 16 vs 32\n",
    "\n",
    "All results will be saved in:\n",
    "📂 `results/fasterwhisper_perf_log.json`\n",
    "📂 `logs/fasterwhisper_run.log`\n"
   ]
  },
  {
   "metadata": {},
   "cell_type": "markdown",
   "source": [
    "## 🧰 Step 1 — Install & Import Dependencies\n",
    "\n",
    "We’ll import and verify everything needed for inference + logging.\n",
    "Faster-Whisper will auto-detect CUDA if available.\n"
   ]
  },
  {
   "metadata": {
    "ExecuteTime": {
     "end_time": "2025-10-21T03:17:23.264973Z",
     "start_time": "2025-10-21T03:17:23.220894Z"
    }
   },
   "cell_type": "code",
   "source": [
    "# Only install if missing\n",
    "try:\n",
    "    from faster_whisper import WhisperModel\n",
    "except ImportError:\n",
    "    !pip install -q faster-whisper psutil tqdm soundfile librosa matplotlib\n",
    "\n",
    "import os, json, time, psutil, subprocess\n",
    "from datetime import datetime\n",
    "from tqdm import tqdm\n",
    "import numpy as np\n",
    "from faster_whisper import WhisperModel\n",
    "\n",
    "print(\"✅ Imports ready. GPU detected?\" , subprocess.getoutput(\"nvidia-smi --query-gpu=name --format=csv,noheader\"))\n"
   ],
   "outputs": [
    {
     "name": "stdout",
     "output_type": "stream",
     "text": [
      "✅ Imports ready. GPU detected? NVIDIA GeForce RTX 4060\n"
     ]
    }
   ],
   "execution_count": 11
  },
  {
   "metadata": {},
   "cell_type": "markdown",
   "source": [
    "## 🧠 Step 2 — Load Faster-Whisper Model\n",
    "\n",
    "We’ll start with the **`base`** model for faster experiments.\n",
    "If CUDA is available, it’ll run on GPU automatically; otherwise it’ll fall back to CPU.\n",
    "\n",
    "> You can later test `medium`, `large-v2`, or `large-v3` once you confirm the setup works.\n"
   ]
  },
  {
   "metadata": {
    "ExecuteTime": {
     "end_time": "2025-10-21T03:17:23.814202Z",
     "start_time": "2025-10-21T03:17:23.272978Z"
    }
   },
   "cell_type": "code",
   "source": [
    "import subprocess\n",
    "from faster_whisper import WhisperModel\n",
    "\n",
    "def get_device():\n",
    "    \"\"\"Return 'cuda' if GPU is working, else 'cpu'.\"\"\"\n",
    "    try:\n",
    "        # Try running a simple CUDA query\n",
    "        gpu_check = subprocess.getoutput(\"nvidia-smi -L\")\n",
    "        if \"GPU\" in gpu_check:\n",
    "            print(\"🟢 GPU detected! Trying CUDA mode...\")\n",
    "            return \"cuda\"\n",
    "        else:\n",
    "            print(\"⚪ No GPU found — using CPU.\")\n",
    "            return \"cpu\"\n",
    "    except Exception as e:\n",
    "        print(f\"⚠️ GPU check failed ({e}). Defaulting to CPU.\")\n",
    "        return \"cpu\"\n",
    "\n",
    "DEVICE = get_device()\n",
    "COMPUTE_TYPE = \"float16\" if DEVICE == \"cuda\" else \"int8\"\n",
    "\n",
    "print(f\"Loading Faster-Whisper model on {DEVICE}...\")\n",
    "try:\n",
    "    model = WhisperModel(\"base\", device=DEVICE, compute_type=COMPUTE_TYPE)\n",
    "    print(\"✅ Model loaded successfully!\")\n",
    "except RuntimeError as e:\n",
    "    print(f\"⚠️ CUDA initialization failed: {e}\")\n",
    "    print(\"🔁 Falling back to CPU...\")\n",
    "    DEVICE = \"cpu\"\n",
    "    model = WhisperModel(\"base\", device=DEVICE, compute_type=\"int8\")\n",
    "    print(\"✅ Reloaded on CPU successfully.\")\n"
   ],
   "outputs": [
    {
     "name": "stdout",
     "output_type": "stream",
     "text": [
      "🟢 GPU detected! Trying CUDA mode...\n",
      "Loading Faster-Whisper model on cuda...\n",
      "✅ Model loaded successfully!\n"
     ]
    }
   ],
   "execution_count": 12
  },
  {
   "metadata": {},
   "cell_type": "markdown",
   "source": [
    "## ⚙️ Step 3 — Define Transcription Helper\n",
    "\n",
    "This function will:\n",
    "- Run transcription on one audio file\n",
    "- Measure elapsed time\n",
    "- Take CPU / RAM / GPU snapshots (before & after)\n",
    "- Return structured results for logging\n"
   ]
  },
  {
   "metadata": {
    "ExecuteTime": {
     "end_time": "2025-10-21T03:17:23.821200Z",
     "start_time": "2025-10-21T03:17:23.817713Z"
    }
   },
   "cell_type": "code",
   "source": [
    "def get_gpu_usage():\n",
    "    \"\"\"Return GPU utilization info if available.\"\"\"\n",
    "    try:\n",
    "        gpu_query = subprocess.getoutput(\n",
    "            \"nvidia-smi --query-gpu=utilization.gpu,memory.used,memory.total --format=csv,noheader\"\n",
    "        )\n",
    "        if gpu_query.strip():\n",
    "            usage, mem_used, mem_total = [x.strip() for x in gpu_query.split(\",\")]\n",
    "            return {\"gpu_util\": usage, \"gpu_mem_used\": mem_used, \"gpu_mem_total\": mem_total}\n",
    "    except:\n",
    "        pass\n",
    "    return {\"gpu_util\": None, \"gpu_mem_used\": None, \"gpu_mem_total\": None}\n",
    "\n",
    "\n",
    "def run_transcription_test(audio_path, beam_size=5, chunk_length=30, vad_filter=False):\n",
    "    \"\"\"Run one inference config and return performance metrics.\"\"\"\n",
    "    start_time = time.time()\n",
    "    cpu_before = psutil.cpu_percent(interval=None)\n",
    "    ram_before = psutil.virtual_memory().percent\n",
    "    gpu_before = get_gpu_usage()\n",
    "\n",
    "    segments, _ = model.transcribe(\n",
    "        audio_path,\n",
    "        beam_size=beam_size,\n",
    "        chunk_length=chunk_length,\n",
    "        vad_filter=vad_filter,\n",
    "    )\n",
    "    text = \" \".join([s.text for s in segments])\n",
    "\n",
    "    elapsed = time.time() - start_time\n",
    "    cpu_after = psutil.cpu_percent(interval=None)\n",
    "    ram_after = psutil.virtual_memory().percent\n",
    "    gpu_after = get_gpu_usage()\n",
    "\n",
    "    # Calculate audio duration for RTF\n",
    "    y, sr = librosa.load(audio_path, sr=None)\n",
    "    audio_duration = len(y) / sr\n",
    "    rtf = round(elapsed / audio_duration, 3)\n",
    "\n",
    "    return {\n",
    "        \"audio\": os.path.basename(audio_path),\n",
    "        \"beam_size\": beam_size,\n",
    "        \"chunk_length\": chunk_length,\n",
    "        \"vad_filter\": vad_filter,\n",
    "        \"elapsed_sec\": round(elapsed, 2),\n",
    "        \"audio_duration\": round(audio_duration, 2),\n",
    "        \"rtf\": rtf,\n",
    "        \"cpu_before\": cpu_before,\n",
    "        \"cpu_after\": cpu_after,\n",
    "        \"ram_before\": ram_before,\n",
    "        \"ram_after\": ram_after,\n",
    "        \"gpu_before\": gpu_before,\n",
    "        \"gpu_after\": gpu_after,\n",
    "        \"transcript_preview\": text[:120] + \"...\" if len(text) > 120 else text,\n",
    "    }"
   ],
   "outputs": [],
   "execution_count": 13
  },
  {
   "metadata": {},
   "cell_type": "markdown",
   "source": [
    "## 🧪 Step 4 — Run Inference Experiments\n",
    "\n",
    "We’ll test several configurations on a subset of our converted audio files\n",
    "(short & long samples for fair comparison).\n",
    "\n",
    "Each run will log:\n",
    "- Total runtime\n",
    "- CPU / GPU usage change\n",
    "- Transcript preview\n",
    "\n",
    "All results will be stored in `results/fasterwhisper_perf_log.json`.\n"
   ]
  },
  {
   "metadata": {
    "ExecuteTime": {
     "end_time": "2025-10-21T04:00:57.480710Z",
     "start_time": "2025-10-21T03:23:59.069891Z"
    }
   },
   "cell_type": "code",
   "source": [
    "import librosa\n",
    "import numpy as np\n",
    "import json\n",
    "import time\n",
    "import psutil\n",
    "import subprocess\n",
    "from tqdm import tqdm\n",
    "import os\n",
    "\n",
    "# 🧠 Ensure model and dirs are already loaded from previous cells\n",
    "RESULTS_PATH = os.path.join(RESULTS_DIR, \"fasterwhisper_perf_baseline.json\")\n",
    "\n",
    "def get_gpu_usage():\n",
    "    \"\"\"Return GPU utilization info if available.\"\"\"\n",
    "    try:\n",
    "        gpu_query = subprocess.getoutput(\n",
    "            \"nvidia-smi --query-gpu=utilization.gpu,memory.used,memory.total --format=csv,noheader\"\n",
    "        )\n",
    "        if gpu_query.strip():\n",
    "            usage, mem_used, mem_total = [x.strip() for x in gpu_query.split(\",\")]\n",
    "            return {\"gpu_util\": usage, \"gpu_mem_used\": mem_used, \"gpu_mem_total\": mem_total}\n",
    "    except:\n",
    "        pass\n",
    "    return {\"gpu_util\": None, \"gpu_mem_used\": None, \"gpu_mem_total\": None}\n",
    "\n",
    "\n",
    "def run_transcription_test(audio_path, beam_size=5, chunk_length=30, vad_filter=False):\n",
    "    \"\"\"Run one inference config and return performance metrics including full transcript.\"\"\"\n",
    "    start_time = time.time()\n",
    "    cpu_before = psutil.cpu_percent(interval=None)\n",
    "    ram_before = psutil.virtual_memory().percent\n",
    "    gpu_before = get_gpu_usage()\n",
    "\n",
    "    segments, info = model.transcribe(\n",
    "        audio_path,\n",
    "        beam_size=beam_size,\n",
    "        chunk_length=chunk_length,\n",
    "        vad_filter=vad_filter,\n",
    "    )\n",
    "\n",
    "    # 🧠 Combine the entire transcript\n",
    "    text = \" \".join([s.text for s in segments])\n",
    "\n",
    "    elapsed = time.time() - start_time\n",
    "    cpu_after = psutil.cpu_percent(interval=None)\n",
    "    ram_after = psutil.virtual_memory().percent\n",
    "    gpu_after = get_gpu_usage()\n",
    "\n",
    "    # 🧩 Return structured info (with full transcript included)\n",
    "    return {\n",
    "        \"audio\": os.path.basename(audio_path),\n",
    "        \"beam_size\": beam_size,\n",
    "        \"chunk_length\": chunk_length,\n",
    "        \"vad_filter\": vad_filter,\n",
    "        \"batch_size\": None,\n",
    "        \"elapsed_sec\": round(elapsed, 2),\n",
    "        \"cpu_before\": cpu_before,\n",
    "        \"cpu_after\": cpu_after,\n",
    "        \"ram_before\": ram_before,\n",
    "        \"ram_after\": ram_after,\n",
    "        \"gpu_before\": gpu_before,\n",
    "        \"gpu_after\": gpu_after,\n",
    "        \"language\": info.language,\n",
    "        \"language_probability\": round(info.language_probability, 3),\n",
    "        \"transcript_preview\": text[:100] + \"...\" if len(text) > 100 else text,\n",
    "        \"transcript_full\": text.strip()  # 🆕 full transcript directly in JSON\n",
    "    }\n",
    "\n",
    "\n",
    "\n",
    "\n",
    "# Run on all converted audios\n",
    "converted_files = [\n",
    "    os.path.join(CONVERTED_DIR, f)\n",
    "    for f in os.listdir(CONVERTED_DIR)\n",
    "    if f.lower().endswith(\".wav\")\n",
    "]\n",
    "\n",
    "beam_sizes = [1, 2, 5, 10]\n",
    "chunk_lengths = [10, 20, 30, 60, None]\n",
    "test_configs = []\n",
    "\n",
    "# Core grid\n",
    "for b in beam_sizes:\n",
    "    for c in chunk_lengths:\n",
    "        test_configs.append({\"beam_size\": b, \"chunk_length\": c})\n",
    "\n",
    "# Add selective VAD runs\n",
    "for b in [1, 5]:\n",
    "    for c in [20, 30]:\n",
    "        test_configs.append({\"beam_size\": b, \"chunk_length\": c, \"vad_filter\": True})\n",
    "\n",
    "print(f\"🧩 Total test configurations: {len(test_configs)}\")\n",
    "print(f\"🎧 Total audio files to test: {len(converted_files)}\")\n",
    "\n",
    "# --- 2️⃣ Run and save incrementally ---\n",
    "results = []\n",
    "for cfg in test_configs:\n",
    "    for audio in tqdm(converted_files, desc=f\"Testing {cfg}\"):\n",
    "        try:\n",
    "            res = run_transcription_test(audio, **cfg)\n",
    "            results.append(res)\n",
    "        except Exception as e:\n",
    "            print(f\"⚠️ Skipped {audio}: {e}\")\n",
    "\n",
    "    # Save partial results after each config block\n",
    "    with open(RESULTS_PATH, \"w\", encoding=\"utf-8\") as f:\n",
    "        json.dump(results, f, indent=2, ensure_ascii=False)\n",
    "\n",
    "\n",
    "    print(f\"✅ Saved partial results for config: {cfg}\")\n",
    "\n",
    "print(f\"\\n✅ Full benchmark complete. Results saved at: {RESULTS_PATH}\")\n"
   ],
   "outputs": [
    {
     "name": "stdout",
     "output_type": "stream",
     "text": [
      "🧩 Total test configurations: 24\n",
      "🎧 Total audio files to test: 12\n"
     ]
    },
    {
     "name": "stderr",
     "output_type": "stream",
     "text": [
      "Testing {'beam_size': 1, 'chunk_length': 10}: 100%|██████████| 12/12 [03:11<00:00, 15.98s/it]\n"
     ]
    },
    {
     "name": "stdout",
     "output_type": "stream",
     "text": [
      "✅ Saved partial results for config: {'beam_size': 1, 'chunk_length': 10}\n"
     ]
    },
    {
     "name": "stderr",
     "output_type": "stream",
     "text": [
      "Testing {'beam_size': 1, 'chunk_length': 20}: 100%|██████████| 12/12 [00:52<00:00,  4.40s/it]\n"
     ]
    },
    {
     "name": "stdout",
     "output_type": "stream",
     "text": [
      "✅ Saved partial results for config: {'beam_size': 1, 'chunk_length': 20}\n"
     ]
    },
    {
     "name": "stderr",
     "output_type": "stream",
     "text": [
      "Testing {'beam_size': 1, 'chunk_length': 30}: 100%|██████████| 12/12 [00:54<00:00,  4.54s/it]\n"
     ]
    },
    {
     "name": "stdout",
     "output_type": "stream",
     "text": [
      "✅ Saved partial results for config: {'beam_size': 1, 'chunk_length': 30}\n"
     ]
    },
    {
     "name": "stderr",
     "output_type": "stream",
     "text": [
      "Testing {'beam_size': 1, 'chunk_length': 60}: 100%|██████████| 12/12 [00:38<00:00,  3.21s/it]\n"
     ]
    },
    {
     "name": "stdout",
     "output_type": "stream",
     "text": [
      "✅ Saved partial results for config: {'beam_size': 1, 'chunk_length': 60}\n"
     ]
    },
    {
     "name": "stderr",
     "output_type": "stream",
     "text": [
      "Testing {'beam_size': 1, 'chunk_length': None}: 100%|██████████| 12/12 [00:43<00:00,  3.65s/it]\n"
     ]
    },
    {
     "name": "stdout",
     "output_type": "stream",
     "text": [
      "✅ Saved partial results for config: {'beam_size': 1, 'chunk_length': None}\n"
     ]
    },
    {
     "name": "stderr",
     "output_type": "stream",
     "text": [
      "Testing {'beam_size': 2, 'chunk_length': 10}: 100%|██████████| 12/12 [02:58<00:00, 14.84s/it]\n"
     ]
    },
    {
     "name": "stdout",
     "output_type": "stream",
     "text": [
      "✅ Saved partial results for config: {'beam_size': 2, 'chunk_length': 10}\n"
     ]
    },
    {
     "name": "stderr",
     "output_type": "stream",
     "text": [
      "Testing {'beam_size': 2, 'chunk_length': 20}: 100%|██████████| 12/12 [00:52<00:00,  4.36s/it]\n"
     ]
    },
    {
     "name": "stdout",
     "output_type": "stream",
     "text": [
      "✅ Saved partial results for config: {'beam_size': 2, 'chunk_length': 20}\n"
     ]
    },
    {
     "name": "stderr",
     "output_type": "stream",
     "text": [
      "Testing {'beam_size': 2, 'chunk_length': 30}: 100%|██████████| 12/12 [01:03<00:00,  5.26s/it]\n"
     ]
    },
    {
     "name": "stdout",
     "output_type": "stream",
     "text": [
      "✅ Saved partial results for config: {'beam_size': 2, 'chunk_length': 30}\n"
     ]
    },
    {
     "name": "stderr",
     "output_type": "stream",
     "text": [
      "Testing {'beam_size': 2, 'chunk_length': 60}: 100%|██████████| 12/12 [00:47<00:00,  3.97s/it]\n"
     ]
    },
    {
     "name": "stdout",
     "output_type": "stream",
     "text": [
      "✅ Saved partial results for config: {'beam_size': 2, 'chunk_length': 60}\n"
     ]
    },
    {
     "name": "stderr",
     "output_type": "stream",
     "text": [
      "Testing {'beam_size': 2, 'chunk_length': None}: 100%|██████████| 12/12 [00:55<00:00,  4.63s/it]\n"
     ]
    },
    {
     "name": "stdout",
     "output_type": "stream",
     "text": [
      "✅ Saved partial results for config: {'beam_size': 2, 'chunk_length': None}\n"
     ]
    },
    {
     "name": "stderr",
     "output_type": "stream",
     "text": [
      "Testing {'beam_size': 5, 'chunk_length': 10}: 100%|██████████| 12/12 [03:47<00:00, 18.93s/it]\n"
     ]
    },
    {
     "name": "stdout",
     "output_type": "stream",
     "text": [
      "✅ Saved partial results for config: {'beam_size': 5, 'chunk_length': 10}\n"
     ]
    },
    {
     "name": "stderr",
     "output_type": "stream",
     "text": [
      "Testing {'beam_size': 5, 'chunk_length': 20}: 100%|██████████| 12/12 [01:17<00:00,  6.47s/it]\n"
     ]
    },
    {
     "name": "stdout",
     "output_type": "stream",
     "text": [
      "✅ Saved partial results for config: {'beam_size': 5, 'chunk_length': 20}\n"
     ]
    },
    {
     "name": "stderr",
     "output_type": "stream",
     "text": [
      "Testing {'beam_size': 5, 'chunk_length': 30}: 100%|██████████| 12/12 [01:17<00:00,  6.48s/it]\n"
     ]
    },
    {
     "name": "stdout",
     "output_type": "stream",
     "text": [
      "✅ Saved partial results for config: {'beam_size': 5, 'chunk_length': 30}\n"
     ]
    },
    {
     "name": "stderr",
     "output_type": "stream",
     "text": [
      "Testing {'beam_size': 5, 'chunk_length': 60}: 100%|██████████| 12/12 [01:10<00:00,  5.88s/it]\n"
     ]
    },
    {
     "name": "stdout",
     "output_type": "stream",
     "text": [
      "✅ Saved partial results for config: {'beam_size': 5, 'chunk_length': 60}\n"
     ]
    },
    {
     "name": "stderr",
     "output_type": "stream",
     "text": [
      "Testing {'beam_size': 5, 'chunk_length': None}: 100%|██████████| 12/12 [00:55<00:00,  4.62s/it]\n"
     ]
    },
    {
     "name": "stdout",
     "output_type": "stream",
     "text": [
      "✅ Saved partial results for config: {'beam_size': 5, 'chunk_length': None}\n"
     ]
    },
    {
     "name": "stderr",
     "output_type": "stream",
     "text": [
      "Testing {'beam_size': 10, 'chunk_length': 10}: 100%|██████████| 12/12 [03:46<00:00, 18.86s/it]\n"
     ]
    },
    {
     "name": "stdout",
     "output_type": "stream",
     "text": [
      "✅ Saved partial results for config: {'beam_size': 10, 'chunk_length': 10}\n"
     ]
    },
    {
     "name": "stderr",
     "output_type": "stream",
     "text": [
      "Testing {'beam_size': 10, 'chunk_length': 20}: 100%|██████████| 12/12 [01:55<00:00,  9.59s/it]\n"
     ]
    },
    {
     "name": "stdout",
     "output_type": "stream",
     "text": [
      "✅ Saved partial results for config: {'beam_size': 10, 'chunk_length': 20}\n"
     ]
    },
    {
     "name": "stderr",
     "output_type": "stream",
     "text": [
      "Testing {'beam_size': 10, 'chunk_length': 30}: 100%|██████████| 12/12 [02:08<00:00, 10.73s/it]\n"
     ]
    },
    {
     "name": "stdout",
     "output_type": "stream",
     "text": [
      "✅ Saved partial results for config: {'beam_size': 10, 'chunk_length': 30}\n"
     ]
    },
    {
     "name": "stderr",
     "output_type": "stream",
     "text": [
      "Testing {'beam_size': 10, 'chunk_length': 60}: 100%|██████████| 12/12 [01:52<00:00,  9.41s/it]\n"
     ]
    },
    {
     "name": "stdout",
     "output_type": "stream",
     "text": [
      "✅ Saved partial results for config: {'beam_size': 10, 'chunk_length': 60}\n"
     ]
    },
    {
     "name": "stderr",
     "output_type": "stream",
     "text": [
      "Testing {'beam_size': 10, 'chunk_length': None}: 100%|██████████| 12/12 [01:56<00:00,  9.74s/it]\n"
     ]
    },
    {
     "name": "stdout",
     "output_type": "stream",
     "text": [
      "✅ Saved partial results for config: {'beam_size': 10, 'chunk_length': None}\n"
     ]
    },
    {
     "name": "stderr",
     "output_type": "stream",
     "text": [
      "Testing {'beam_size': 1, 'chunk_length': 20, 'vad_filter': True}: 100%|██████████| 12/12 [00:56<00:00,  4.73s/it]\n"
     ]
    },
    {
     "name": "stdout",
     "output_type": "stream",
     "text": [
      "✅ Saved partial results for config: {'beam_size': 1, 'chunk_length': 20, 'vad_filter': True}\n"
     ]
    },
    {
     "name": "stderr",
     "output_type": "stream",
     "text": [
      "Testing {'beam_size': 1, 'chunk_length': 30, 'vad_filter': True}: 100%|██████████| 12/12 [00:42<00:00,  3.51s/it]\n"
     ]
    },
    {
     "name": "stdout",
     "output_type": "stream",
     "text": [
      "✅ Saved partial results for config: {'beam_size': 1, 'chunk_length': 30, 'vad_filter': True}\n"
     ]
    },
    {
     "name": "stderr",
     "output_type": "stream",
     "text": [
      "Testing {'beam_size': 5, 'chunk_length': 20, 'vad_filter': True}: 100%|██████████| 12/12 [01:15<00:00,  6.29s/it]\n"
     ]
    },
    {
     "name": "stdout",
     "output_type": "stream",
     "text": [
      "✅ Saved partial results for config: {'beam_size': 5, 'chunk_length': 20, 'vad_filter': True}\n"
     ]
    },
    {
     "name": "stderr",
     "output_type": "stream",
     "text": [
      "Testing {'beam_size': 5, 'chunk_length': 30, 'vad_filter': True}: 100%|██████████| 12/12 [00:57<00:00,  4.77s/it]"
     ]
    },
    {
     "name": "stdout",
     "output_type": "stream",
     "text": [
      "✅ Saved partial results for config: {'beam_size': 5, 'chunk_length': 30, 'vad_filter': True}\n",
      "\n",
      "✅ Full benchmark complete. Results saved at: C:\\Users\\PC\\PycharmProjects\\VisionAI_Audio\\notebooks\\task3_optimization\\results\\fasterwhisper_perf_baseline.json\n"
     ]
    },
    {
     "name": "stderr",
     "output_type": "stream",
     "text": [
      "\n"
     ]
    }
   ],
   "execution_count": 15
  },
  {
   "metadata": {},
   "cell_type": "code",
   "outputs": [],
   "execution_count": null,
   "source": ""
  },
  {
   "metadata": {},
   "cell_type": "markdown",
   "source": [
    "### ⚙️ Understanding `batch_size` Handling in Faster-Whisper\n",
    "\n",
    "In earlier versions of Faster-Whisper, users could manually specify a `batch_size` value to control how many audio frames were processed simultaneously.\n",
    "\n",
    "However, **this parameter is now deprecated** — the library automatically determines the most efficient batch size depending on:\n",
    "\n",
    "- **Available hardware** (CPU or GPU)\n",
    "- **Compute precision** (`float16`, `int8`, etc.)\n",
    "- **Chunk length** and audio duration\n",
    "- **Memory limits**\n",
    "\n",
    "This change ensures:\n",
    "- Optimal memory usage (avoiding out-of-memory crashes)\n",
    "- Consistent behavior across devices\n",
    "- Reduced configuration complexity\n",
    "\n",
    "> 💡 **In short:**\n",
    "> We no longer pass `batch_size` manually — Faster-Whisper handles it internally.\n",
    "> The `batch_size` field in our results JSON is kept only for **logging consistency** across tests.\n"
   ]
  },
  {
   "metadata": {},
   "cell_type": "markdown",
   "source": [
    "## 📊 Step 5 — Visualize Performance Summary\n",
    "\n",
    "We’ll quickly compare elapsed times and RAM usage across different parameter settings\n",
    "to see which configuration balances speed and resource efficiency best.\n"
   ]
  },
  {
   "metadata": {
    "ExecuteTime": {
     "end_time": "2025-10-21T04:02:05.861327Z",
     "start_time": "2025-10-21T04:02:04.290205Z"
    }
   },
   "cell_type": "code",
   "source": [
    "import matplotlib.pyplot as plt\n",
    "import pandas as pd\n",
    "\n",
    "df = pd.DataFrame(results)\n",
    "plt.figure(figsize=(10,5))\n",
    "plt.barh(df.index, df[\"elapsed_sec\"])\n",
    "plt.yticks(df.index, [f\"{r['beam_size']}/{r['chunk_length']}/{r['batch_size']}\" for r in results])\n",
    "plt.xlabel(\"Elapsed Time (s)\")\n",
    "plt.title(\"Faster-Whisper Performance Comparison\")\n",
    "plt.tight_layout()\n",
    "plt.show()\n",
    "\n",
    "df[[\"audio\", \"beam_size\", \"chunk_length\", \"batch_size\", \"elapsed_sec\", \"cpu_after\", \"ram_after\"]]\n"
   ],
   "outputs": [
    {
     "data": {
      "text/plain": [
       "<Figure size 1000x500 with 1 Axes>"
      ],
      "image/png": "[encoded data removed]"
     },
     "metadata": {},
     "output_type": "display_data",
     "jetTransient": {
      "display_id": null
     }
    },
    {
     "data": {
      "text/plain": [
       "                                                 audio  beam_size  \\\n",
       "0                           english_clean_1min_16k.wav          1   \n",
       "1    english_multi_accent_noisy_background_3min_16k...          1   \n",
       "2                              eng_clean_16min_16k.wav          1   \n",
       "3                      eng_Pk_accent_clean_30s_16k.wav          1   \n",
       "4          eng_UK_clean_repeated_sentences_50s_16k.wav          1   \n",
       "..                                                 ...        ...   \n",
       "283     urdu_low_pitch_fast_speaking_rate_15s__16k.wav          5   \n",
       "284                          urdu_silence_1min_16k.wav          5   \n",
       "285             urdu_whatsapp_like_voice_15min_16k.wav          5   \n",
       "286                      ur_clean_bot_like_30s_16k.wav          5   \n",
       "287             ur_noisy_background_music_5min_16k.wav          5   \n",
       "\n",
       "     chunk_length batch_size  elapsed_sec  cpu_after  ram_after  \n",
       "0            10.0       None         0.97       15.5       75.4  \n",
       "1            10.0       None         2.38       12.8       75.4  \n",
       "2            10.0       None        11.23       12.3       75.3  \n",
       "3            10.0       None         0.33        9.3       75.3  \n",
       "4            10.0       None         0.63       17.7       75.7  \n",
       "..            ...        ...          ...        ...        ...  \n",
       "283          30.0       None         0.60        6.7       62.4  \n",
       "284          30.0       None         0.99        7.3       62.4  \n",
       "285          30.0       None        21.13        8.7       62.9  \n",
       "286          30.0       None         0.94        6.7       62.9  \n",
       "287          30.0       None         9.79        7.6       62.8  \n",
       "\n",
       "[288 rows x 7 columns]"
      ],
      "text/html": [
       "<div>\n",
       "<style scoped>\n",
       "    .dataframe tbody tr th:only-of-type {\n",
       "        vertical-align: middle;\n",
       "    }\n",
       "\n",
       "    .dataframe tbody tr th {\n",
       "        vertical-align: top;\n",
       "    }\n",
       "\n",
       "    .dataframe thead th {\n",
       "        text-align: right;\n",
       "    }\n",
       "</style>\n",
       "<table border=\"1\" class=\"dataframe\">\n",
       "  <thead>\n",
       "    <tr style=\"text-align: right;\">\n",
       "      <th></th>\n",
       "      <th>audio</th>\n",
       "      <th>beam_size</th>\n",
       "      <th>chunk_length</th>\n",
       "      <th>batch_size</th>\n",
       "      <th>elapsed_sec</th>\n",
       "      <th>cpu_after</th>\n",
       "      <th>ram_after</th>\n",
       "    </tr>\n",
       "  </thead>\n",
       "  <tbody>\n",
       "    <tr>\n",
       "      <th>0</th>\n",
       "      <td>english_clean_1min_16k.wav</td>\n",
       "      <td>1</td>\n",
       "      <td>10.0</td>\n",
       "      <td>None</td>\n",
       "      <td>0.97</td>\n",
       "      <td>15.5</td>\n",
       "      <td>75.4</td>\n",
       "    </tr>\n",
       "    <tr>\n",
       "      <th>1</th>\n",
       "      <td>english_multi_accent_noisy_background_3min_16k...</td>\n",
       "      <td>1</td>\n",
       "      <td>10.0</td>\n",
       "      <td>None</td>\n",
       "      <td>2.38</td>\n",
       "      <td>12.8</td>\n",
       "      <td>75.4</td>\n",
       "    </tr>\n",
       "    <tr>\n",
       "      <th>2</th>\n",
       "      <td>eng_clean_16min_16k.wav</td>\n",
       "      <td>1</td>\n",
       "      <td>10.0</td>\n",
       "      <td>None</td>\n",
       "      <td>11.23</td>\n",
       "      <td>12.3</td>\n",
       "      <td>75.3</td>\n",
       "    </tr>\n",
       "    <tr>\n",
       "      <th>3</th>\n",
       "      <td>eng_Pk_accent_clean_30s_16k.wav</td>\n",
       "      <td>1</td>\n",
       "      <td>10.0</td>\n",
       "      <td>None</td>\n",
       "      <td>0.33</td>\n",
       "      <td>9.3</td>\n",
       "      <td>75.3</td>\n",
       "    </tr>\n",
       "    <tr>\n",
       "      <th>4</th>\n",
       "      <td>eng_UK_clean_repeated_sentences_50s_16k.wav</td>\n",
       "      <td>1</td>\n",
       "      <td>10.0</td>\n",
       "      <td>None</td>\n",
       "      <td>0.63</td>\n",
       "      <td>17.7</td>\n",
       "      <td>75.7</td>\n",
       "    </tr>\n",
       "    <tr>\n",
       "      <th>...</th>\n",
       "      <td>...</td>\n",
       "      <td>...</td>\n",
       "      <td>...</td>\n",
       "      <td>...</td>\n",
       "      <td>...</td>\n",
       "      <td>...</td>\n",
       "      <td>...</td>\n",
       "    </tr>\n",
       "    <tr>\n",
       "      <th>283</th>\n",
       "      <td>urdu_low_pitch_fast_speaking_rate_15s__16k.wav</td>\n",
       "      <td>5</td>\n",
       "      <td>30.0</td>\n",
       "      <td>None</td>\n",
       "      <td>0.60</td>\n",
       "      <td>6.7</td>\n",
       "      <td>62.4</td>\n",
       "    </tr>\n",
       "    <tr>\n",
       "      <th>284</th>\n",
       "      <td>urdu_silence_1min_16k.wav</td>\n",
       "      <td>5</td>\n",
       "      <td>30.0</td>\n",
       "      <td>None</td>\n",
       "      <td>0.99</td>\n",
       "      <td>7.3</td>\n",
       "      <td>62.4</td>\n",
       "    </tr>\n",
       "    <tr>\n",
       "      <th>285</th>\n",
       "      <td>urdu_whatsapp_like_voice_15min_16k.wav</td>\n",
       "      <td>5</td>\n",
       "      <td>30.0</td>\n",
       "      <td>None</td>\n",
       "      <td>21.13</td>\n",
       "      <td>8.7</td>\n",
       "      <td>62.9</td>\n",
       "    </tr>\n",
       "    <tr>\n",
       "      <th>286</th>\n",
       "      <td>ur_clean_bot_like_30s_16k.wav</td>\n",
       "      <td>5</td>\n",
       "      <td>30.0</td>\n",
       "      <td>None</td>\n",
       "      <td>0.94</td>\n",
       "      <td>6.7</td>\n",
       "      <td>62.9</td>\n",
       "    </tr>\n",
       "    <tr>\n",
       "      <th>287</th>\n",
       "      <td>ur_noisy_background_music_5min_16k.wav</td>\n",
       "      <td>5</td>\n",
       "      <td>30.0</td>\n",
       "      <td>None</td>\n",
       "      <td>9.79</td>\n",
       "      <td>7.6</td>\n",
       "      <td>62.8</td>\n",
       "    </tr>\n",
       "  </tbody>\n",
       "</table>\n",
       "<p>288 rows × 7 columns</p>\n",
       "</div>"
      ]
     },
     "execution_count": 16,
     "metadata": {},
     "output_type": "execute_result"
    }
   ],
   "execution_count": 16
  },
  {
   "metadata": {},
   "cell_type": "markdown",
   "source": [
    "## 🧩 Step 6 — Interpreting the Results\n",
    "\n",
    "Now that we’ve visualized performance, let’s understand what these results mean:\n",
    "\n",
    "---\n",
    "\n",
    "### 🕒 **Elapsed Time (s)**\n",
    "- Represents how long each transcription run took.\n",
    "- **Lower = Better** for faster processing.\n",
    "- Expect short audios to finish under 10 seconds on GPU.\n",
    "- Long audios (10–15 min) will scale linearly depending on chunk size.\n",
    "\n",
    "---\n",
    "\n",
    "### ⚙️ **Beam Size**\n",
    "- Controls how many decoding hypotheses the model explores.\n",
    "- **Smaller beam size (1–2)** → faster but possibly less accurate.\n",
    "- **Larger beam size (5–10)** → slower but often more accurate on noisy or accented speech.\n",
    "\n",
    "---\n",
    "\n",
    "### 🎧 **Chunk Length**\n",
    "- Determines how much audio (in seconds) the model processes at once.\n",
    "- **Short chunks (10–15s)** → smoother memory usage, good for limited RAM.\n",
    "- **Long chunks (30–60s or None)** → fewer context resets, slightly better accuracy, but higher RAM/GPU demand.\n",
    "\n",
    "---\n",
    "\n",
    "### 📦 **Batch Size**\n",
    "- Affects how many frames the model processes simultaneously.\n",
    "- **Higher batch sizes** → better GPU utilization and faster throughput,\n",
    "  but may cause out-of-memory errors on smaller GPUs.\n",
    "- On CPU, higher batch sizes may not improve speed significantly.\n",
    "\n",
    "---\n",
    "\n",
    "### 💻 **Resource Utilization**\n",
    "- **CPU % / RAM %**: shows how efficiently system resources were used.\n",
    "- **GPU Utilization**: should rise above 50–60% during processing if CUDA is active.\n",
    "- If GPU usage is 0%, it’s likely running on CPU mode.\n",
    "\n",
    "---\n",
    "\n",
    "### 🧠 **Takeaway**\n",
    "For most real-world Whisper optimization:\n",
    "- `beam_size = 1` and `chunk_length = 30`\n",
    "  gives the best balance between **speed** and **accuracy**.\n",
    "- Increasing `batch_size` (up to GPU limit) can further improve performance.\n",
    "- Always monitor GPU memory to avoid out-of-memory crashes.\n",
    "\n",
    "---\n",
    "\n",
    "✅ You now have a complete performance benchmarking notebook\n",
    "for **Task 3: Faster-Whisper Optimization** — fully runnable in both **Colab** and **local Jupyter Notebook**.\n"
   ]
  },
  {
   "metadata": {},
   "cell_type": "markdown",
   "source": ""
  }
 ]
}
