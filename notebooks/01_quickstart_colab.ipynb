{
 "nbformat": 4,
 "nbformat_minor": 0,
 "metadata": {
  "colab": {
   "provenance": [],
   "toc_visible": true,
   "gpuType": "T4"
  },
  "kernelspec": {
   "name": "python3",
   "display_name": "Python 3"
  },
  "language_info": {
   "name": "python"
  },
  "accelerator": "GPU"
 },
 "cells": [
  {
   "cell_type": "markdown",
   "source": [
    "# 🎧 VisionAI Audio Quickstart\n",
    "This notebook demonstrates how to transcribe audio using Faster-Whisper with CPU/GPU on Colab."
   ],
   "metadata": {
    "id": "Ip3FyngzWuF8"
   }
  },
  {
   "cell_type": "markdown",
   "source": [
    "# Step 1: Install dependencies"
   ],
   "metadata": {
    "id": "vRhMkXMFW2rD"
   }
  },
  {
   "cell_type": "code",
   "execution_count": 1,
   "metadata": {
    "colab": {
     "base_uri": "https://localhost:8080/"
    },
    "id": "nWLOFdowQ8F9",
    "outputId": "372c9d08-de67-4c5d-8492-22accbd979fa"
   },
   "outputs": [
    {
     "output_type": "stream",
     "name": "stdout",
     "text": [
      "\u001B[2K   \u001B[90m━━━━━━━━━━━━━━━━━━━━━━━━━━━━━━━━━━━━━━━━\u001B[0m \u001B[32m1.1/1.1 MB\u001B[0m \u001B[31m25.9 MB/s\u001B[0m eta \u001B[36m0:00:00\u001B[0m\n",
      "\u001B[2K   \u001B[90m━━━━━━━━━━━━━━━━━━━━━━━━━━━━━━━━━━━━━━━━\u001B[0m \u001B[32m39.9/39.9 MB\u001B[0m \u001B[31m17.6 MB/s\u001B[0m eta \u001B[36m0:00:00\u001B[0m\n",
      "\u001B[2K   \u001B[90m━━━━━━━━━━━━━━━━━━━━━━━━━━━━━━━━━━━━━━━━\u001B[0m \u001B[32m38.8/38.8 MB\u001B[0m \u001B[31m16.4 MB/s\u001B[0m eta \u001B[36m0:00:00\u001B[0m\n",
      "\u001B[2K   \u001B[90m━━━━━━━━━━━━━━━━━━━━━━━━━━━━━━━━━━━━━━━━\u001B[0m \u001B[32m17.4/17.4 MB\u001B[0m \u001B[31m57.1 MB/s\u001B[0m eta \u001B[36m0:00:00\u001B[0m\n",
      "\u001B[2K   \u001B[90m━━━━━━━━━━━━━━━━━━━━━━━━━━━━━━━━━━━━━━━━\u001B[0m \u001B[32m46.0/46.0 kB\u001B[0m \u001B[31m2.8 MB/s\u001B[0m eta \u001B[36m0:00:00\u001B[0m\n",
      "\u001B[2K   \u001B[90m━━━━━━━━━━━━━━━━━━━━━━━━━━━━━━━━━━━━━━━━\u001B[0m \u001B[32m86.8/86.8 kB\u001B[0m \u001B[31m6.4 MB/s\u001B[0m eta \u001B[36m0:00:00\u001B[0m\n",
      "\u001B[?25h"
     ]
    }
   ],
   "source": [
    "!pip install faster-whisper pydub torch torchvision torchaudio --quiet"
   ]
  },
  {
   "cell_type": "markdown",
   "source": [
    "# Step 2: Imports"
   ],
   "metadata": {
    "id": "8SRQRgJqWnNL"
   }
  },
  {
   "cell_type": "code",
   "source": [
    "import torch, os, warnings\n",
    "warnings.filterwarnings(\"ignore\", category=SyntaxWarning)\n",
    "from pydub import AudioSegment\n",
    "from faster_whisper import WhisperModel\n",
    "from google.colab import files\n",
    "import warnings\n",
    "warnings.filterwarnings(\"ignore\", message=\"The secret `HF_TOKEN` does not exist\")\n"
   ],
   "metadata": {
    "id": "3gCEsOofV2mE"
   },
   "execution_count": 17,
   "outputs": []
  },
  {
   "cell_type": "markdown",
   "source": [
    "# Step 3: Auto detect GPU/CPU"
   ],
   "metadata": {
    "id": "hYAJ_8g7Wi7E"
   }
  },
  {
   "cell_type": "code",
   "source": [
    "# GPU status check\n",
    "if not torch.cuda.is_available():\n",
    "    print(\"⚠️ GPU is NOT enabled! Go to: Runtime → Change runtime type → Hardware accelerator → GPU → Save, then rerun this cell.\")\n",
    "else:\n",
    "    print(\"✅ GPU is active:\", torch.cuda.get_device_name(0))\n",
    "\n",
    "device = \"cuda\" if torch.cuda.is_available() else \"cpu\"\n",
    "model_size = \"large-v3\"\n",
    "compute_type = \"float16\" if device == \"cuda\" else \"int8\"\n",
    "print(f\"🔥 Using {device.upper()} with model '{model_size}' and precision {compute_type}\")"
   ],
   "metadata": {
    "colab": {
     "base_uri": "https://localhost:8080/"
    },
    "id": "ogFr6YR2WhDz",
    "outputId": "2f7f3194-8088-4f68-bb7f-4b44c8d463ca"
   },
   "execution_count": 12,
   "outputs": [
    {
     "output_type": "stream",
     "name": "stdout",
     "text": [
      "✅ GPU is active: Tesla T4\n",
      "🔥 Using CUDA with model 'large-v3' and precision float16\n"
     ]
    }
   ]
  },
  {
   "cell_type": "markdown",
   "source": [
    "# Step 4: Load model"
   ],
   "metadata": {
    "id": "njJtnvPoXEGD"
   }
  },
  {
   "cell_type": "code",
   "source": [
    "fw_model = WhisperModel(model_size, device=device, compute_type=compute_type)\n",
    "print(\"✅ Model loaded successfully\")"
   ],
   "metadata": {
    "colab": {
     "base_uri": "https://localhost:8080/"
    },
    "id": "0HXmK7SoXGi1",
    "outputId": "ebc40108-a2d9-4846-bda0-df68f4903c0a"
   },
   "execution_count": 18,
   "outputs": [
    {
     "output_type": "stream",
     "name": "stdout",
     "text": [
      "✅ Model loaded successfully\n"
     ]
    }
   ]
  },
  {
   "cell_type": "markdown",
   "source": [
    "# Step 5: Upload an audio file"
   ],
   "metadata": {
    "id": "3gzLvMBNX8ED"
   }
  },
  {
   "cell_type": "code",
   "source": [
    "uploaded = files.upload()\n",
    "audio_path = list(uploaded.keys())[0]\n",
    "print(f\"📁 Uploaded: {audio_path}\")"
   ],
   "metadata": {
    "colab": {
     "base_uri": "https://localhost:8080/",
     "height": 91
    },
    "id": "DU3tiyIWX98b",
    "outputId": "1e7ec064-d9dc-4143-eba1-a0450e10a630"
   },
   "execution_count": 9,
   "outputs": [
    {
     "output_type": "display_data",
     "data": {
      "text/plain": [
       "<IPython.core.display.HTML object>"
      ],
      "text/html": [
       "\n",
       "     <input type=\"file\" id=\"files-27f97360-f602-4e10-be2e-46fb5a81edc5\" name=\"files[]\" multiple disabled\n",
       "        style=\"border:none\" />\n",
       "     <output id=\"result-27f97360-f602-4e10-be2e-46fb5a81edc5\">\n",
       "      Upload widget is only available when the cell has been executed in the\n",
       "      current browser session. Please rerun this cell to enable.\n",
       "      </output>\n",
       "      <script>// Copyright 2017 Google LLC\n",
       "//\n",
       "// Licensed under the Apache License, Version 2.0 (the \"License\");\n",
       "// you may not use this file except in compliance with the License.\n",
       "// You may obtain a copy of the License at\n",
       "//\n",
       "//      http://www.apache.org/licenses/LICENSE-2.0\n",
       "//\n",
       "// Unless required by applicable law or agreed to in writing, software\n",
       "// distributed under the License is distributed on an \"AS IS\" BASIS,\n",
       "// WITHOUT WARRANTIES OR CONDITIONS OF ANY KIND, either express or implied.\n",
       "// See the License for the specific language governing permissions and\n",
       "// limitations under the License.\n",
       "\n",
       "/**\n",
       " * @fileoverview Helpers for google.colab Python module.\n",
       " */\n",
       "(function(scope) {\n",
       "function span(text, styleAttributes = {}) {\n",
       "  const element = document.createElement('span');\n",
       "  element.textContent = text;\n",
       "  for (const key of Object.keys(styleAttributes)) {\n",
       "    element.style[key] = styleAttributes[key];\n",
       "  }\n",
       "  return element;\n",
       "}\n",
       "\n",
       "// Max number of bytes which will be uploaded at a time.\n",
       "const MAX_PAYLOAD_SIZE = 100 * 1024;\n",
       "\n",
       "function _uploadFiles(inputId, outputId) {\n",
       "  const steps = uploadFilesStep(inputId, outputId);\n",
       "  const outputElement = document.getElementById(outputId);\n",
       "  // Cache steps on the outputElement to make it available for the next call\n",
       "  // to uploadFilesContinue from Python.\n",
       "  outputElement.steps = steps;\n",
       "\n",
       "  return _uploadFilesContinue(outputId);\n",
       "}\n",
       "\n",
       "// This is roughly an async generator (not supported in the browser yet),\n",
       "// where there are multiple asynchronous steps and the Python side is going\n",
       "// to poll for completion of each step.\n",
       "// This uses a Promise to block the python side on completion of each step,\n",
       "// then passes the result of the previous step as the input to the next step.\n",
       "function _uploadFilesContinue(outputId) {\n",
       "  const outputElement = document.getElementById(outputId);\n",
       "  const steps = outputElement.steps;\n",
       "\n",
       "  const next = steps.next(outputElement.lastPromiseValue);\n",
       "  return Promise.resolve(next.value.promise).then((value) => {\n",
       "    // Cache the last promise value to make it available to the next\n",
       "    // step of the generator.\n",
       "    outputElement.lastPromiseValue = value;\n",
       "    return next.value.response;\n",
       "  });\n",
       "}\n",
       "\n",
       "/**\n",
       " * Generator function which is called between each async step of the upload\n",
       " * process.\n",
       " * @param {string} inputId Element ID of the input file picker element.\n",
       " * @param {string} outputId Element ID of the output display.\n",
       " * @return {!Iterable<!Object>} Iterable of next steps.\n",
       " */\n",
       "function* uploadFilesStep(inputId, outputId) {\n",
       "  const inputElement = document.getElementById(inputId);\n",
       "  inputElement.disabled = false;\n",
       "\n",
       "  const outputElement = document.getElementById(outputId);\n",
       "  outputElement.innerHTML = '';\n",
       "\n",
       "  const pickedPromise = new Promise((resolve) => {\n",
       "    inputElement.addEventListener('change', (e) => {\n",
       "      resolve(e.target.files);\n",
       "    });\n",
       "  });\n",
       "\n",
       "  const cancel = document.createElement('button');\n",
       "  inputElement.parentElement.appendChild(cancel);\n",
       "  cancel.textContent = 'Cancel upload';\n",
       "  const cancelPromise = new Promise((resolve) => {\n",
       "    cancel.onclick = () => {\n",
       "      resolve(null);\n",
       "    };\n",
       "  });\n",
       "\n",
       "  // Wait for the user to pick the files.\n",
       "  const files = yield {\n",
       "    promise: Promise.race([pickedPromise, cancelPromise]),\n",
       "    response: {\n",
       "      action: 'starting',\n",
       "    }\n",
       "  };\n",
       "\n",
       "  cancel.remove();\n",
       "\n",
       "  // Disable the input element since further picks are not allowed.\n",
       "  inputElement.disabled = true;\n",
       "\n",
       "  if (!files) {\n",
       "    return {\n",
       "      response: {\n",
       "        action: 'complete',\n",
       "      }\n",
       "    };\n",
       "  }\n",
       "\n",
       "  for (const file of files) {\n",
       "    const li = document.createElement('li');\n",
       "    li.append(span(file.name, {fontWeight: 'bold'}));\n",
       "    li.append(span(\n",
       "        `(${file.type || 'n/a'}) - ${file.size} bytes, ` +\n",
       "        `last modified: ${\n",
       "            file.lastModifiedDate ? file.lastModifiedDate.toLocaleDateString() :\n",
       "                                    'n/a'} - `));\n",
       "    const percent = span('0% done');\n",
       "    li.appendChild(percent);\n",
       "\n",
       "    outputElement.appendChild(li);\n",
       "\n",
       "    const fileDataPromise = new Promise((resolve) => {\n",
       "      const reader = new FileReader();\n",
       "      reader.onload = (e) => {\n",
       "        resolve(e.target.result);\n",
       "      };\n",
       "      reader.readAsArrayBuffer(file);\n",
       "    });\n",
       "    // Wait for the data to be ready.\n",
       "    let fileData = yield {\n",
       "      promise: fileDataPromise,\n",
       "      response: {\n",
       "        action: 'continue',\n",
       "      }\n",
       "    };\n",
       "\n",
       "    // Use a chunked sending to avoid message size limits. See b/62115660.\n",
       "    let position = 0;\n",
       "    do {\n",
       "      const length = Math.min(fileData.byteLength - position, MAX_PAYLOAD_SIZE);\n",
       "      const chunk = new Uint8Array(fileData, position, length);\n",
       "      position += length;\n",
       "\n",
       "      const base64 = btoa(String.fromCharCode.apply(null, chunk));\n",
       "      yield {\n",
       "        response: {\n",
       "          action: 'append',\n",
       "          file: file.name,\n",
       "          data: base64,\n",
       "        },\n",
       "      };\n",
       "\n",
       "      let percentDone = fileData.byteLength === 0 ?\n",
       "          100 :\n",
       "          Math.round((position / fileData.byteLength) * 100);\n",
       "      percent.textContent = `${percentDone}% done`;\n",
       "\n",
       "    } while (position < fileData.byteLength);\n",
       "  }\n",
       "\n",
       "  // All done.\n",
       "  yield {\n",
       "    response: {\n",
       "      action: 'complete',\n",
       "    }\n",
       "  };\n",
       "}\n",
       "\n",
       "scope.google = scope.google || {};\n",
       "scope.google.colab = scope.google.colab || {};\n",
       "scope.google.colab._files = {\n",
       "  _uploadFiles,\n",
       "  _uploadFilesContinue,\n",
       "};\n",
       "})(self);\n",
       "</script> "
      ]
     },
     "metadata": {}
    },
    {
     "output_type": "stream",
     "name": "stdout",
     "text": [
      "Saving Jos001-[AudioTrimmer.com].mp3 to Jos001-[AudioTrimmer.com].mp3\n",
      "📁 Uploaded: Jos001-[AudioTrimmer.com].mp3\n"
     ]
    }
   ]
  },
  {
   "cell_type": "markdown",
   "source": [
    "\n",
    "# Step 6: Transcription"
   ],
   "metadata": {
    "id": "cjO9Sz_LYNnb"
   }
  },
  {
   "cell_type": "code",
   "source": [
    "segments, info = fw_model.transcribe(\n",
    "    audio_path,\n",
    "    beam_size=15,\n",
    "    vad_filter=True,\n",
    "    chunk_length=30,\n",
    "    without_timestamps=False,\n",
    "    multilingual=True,\n",
    ")\n",
    "\n",
    "print(\"🧠 Transcribing...\\n\")\n",
    "full_text = \"\"\n",
    "for s in segments:\n",
    "    print(s.text)\n",
    "    full_text += s.text + \" \"\n",
    "print(\"\\n✅ Done!\")"
   ],
   "metadata": {
    "colab": {
     "base_uri": "https://localhost:8080/"
    },
    "id": "XK-z9B4nYbQz",
    "outputId": "2fedde72-bfb5-4337-8a50-06c1f18a0a77"
   },
   "execution_count": 24,
   "outputs": [
    {
     "output_type": "stream",
     "name": "stdout",
     "text": [
      "🧠 Transcribing...\n",
      "\n",
      " یشیو باب ایک رب کے خادم موسیٰ کی موت کے بعد رب موسیٰ کے مددگار یشیو بن نون سے ہم کلام ہوا اس نے کہا میرا خادم موسیٰ فوت ہو گیا ہے\n",
      " اب اٹھ اس پوری قوم کے ساتھ دریائے یردن کو پار کر کے اس ملک میں داخل ہو جا جو میں اسرائیلیوں کو دینے کو ہوں\n",
      " جس زمین پر بھی\n",
      "\n",
      "✅ Done!\n"
     ]
    }
   ]
  },
  {
   "metadata": {},
   "cell_type": "markdown",
   "source": [
    "### Parameter Tuning for Accuracy and Speed\n",
    "\n",
    "When running `fw_model.transcribe()`, you can adjust the parameters to balance **accuracy**, **speed**, and **language handling**:\n",
    "\n",
    "| Parameter | What it does | Effect of changing it | Example Values |\n",
    "|-----------|-------------|---------------------|----------------|\n",
    "| `beam_size` | Controls the number of beams in beam search for transcription. | Higher → more accurate but slower. Lower → faster but less accurate. | 5, 10, 15 |\n",
    "| `chunk_length` | Length (in seconds) of audio chunks processed at a time. | Smaller → better for long files or unstable audio, slower. Larger → faster, might miss details. | 15, 30, 60 |\n",
    "| `vad_filter` | Voice activity detection filter. | `True` → skips silence, faster. `False` → processes all audio, may include noise. | True / False |\n",
    "| `without_timestamps` | Include timestamps in segments. | `False` → segments have timestamps. `True` → full text only. | True / False |\n",
    "| `multilingual` | Enable language detection and multilingual transcription. | `True` → detects multiple languages. `False` → assumes single language. | True / False |\n",
    "\n",
    "💡 **Tips:**\n",
    "- Increase `beam_size` for higher transcription accuracy.\n",
    "- Adjust `chunk_length` depending on audio length: e.g., 15s for shorter chunks or 60s for faster processing.\n",
    "- Turn off `vad_filter` if you want to capture all audio, even silent parts.\n",
    "- **Longer audio files** make differences in these parameters more noticeable — you can clearly see the effect of higher `beam_size` or smaller `chunk_length` on transcription quality.\n"
   ]
  }
 ]
}
